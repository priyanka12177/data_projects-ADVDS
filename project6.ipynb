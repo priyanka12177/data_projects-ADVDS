{
  "nbformat": 4,
  "nbformat_minor": 0,
  "metadata": {
    "colab": {
      "name": "project6.ipynb",
      "provenance": [],
      "collapsed_sections": [],
      "include_colab_link": true
    },
    "kernelspec": {
      "name": "python3",
      "display_name": "Python 3"
    },
    "language_info": {
      "name": "python"
    }
  },
  "cells": [
    {
      "cell_type": "markdown",
      "metadata": {
        "id": "view-in-github",
        "colab_type": "text"
      },
      "source": [
        "<a href=\"https://colab.research.google.com/github/priyanka12177/data_projects-ADVDS/blob/Project6/project6.ipynb\" target=\"_parent\"><img src=\"https://colab.research.google.com/assets/colab-badge.svg\" alt=\"Open In Colab\"/></a>"
      ]
    },
    {
      "cell_type": "code",
      "metadata": {
        "id": "OvxGUgjfsPR5"
      },
      "source": [
        "# Pandas is mainly used for data analysis. Pandas allows importing data from various file formats \n",
        "# such as comma-separated values, JSON, SQL, Microsoft Excel. \n",
        "# Pandas allows various data manipulation operations such as merging, reshaping, selecting, \n",
        "# as well as data cleaning, and data wrangling features.\n",
        "# NumPy has support for large, multi-dimensional arrays and matrices, along with \n",
        "# a large collection of high-level mathematical functions to operate on these arrays.\n",
        "# Import matplotlib  to visualize the data\n",
        "import matplotlib.pyplot as plt\n",
        "import numpy as np\n",
        "import pandas as pd"
      ],
      "execution_count": 1,
      "outputs": []
    },
    {
      "cell_type": "code",
      "metadata": {
        "id": "k3CD7Gn_sYsY"
      },
      "source": [
        "# Read  file from github into a dataframe\n",
        "# dataset contains 2126 records of features extracted from Cardiotocogram exams, which were classified by three expert obstetricians \n",
        "df = pd.read_csv('https://raw.githubusercontent.com/priyanka12177/data_projects-ADVDS/Project6/fetal_health.csv')"
      ],
      "execution_count": 2,
      "outputs": []
    },
    {
      "cell_type": "code",
      "metadata": {
        "colab": {
          "base_uri": "https://localhost:8080/",
          "height": 317
        },
        "id": "pwu2sk84sud5",
        "outputId": "47bb4ce4-225d-48b3-f560-b29fe540305a"
      },
      "source": [
        "# head function is used to get the first 5 rows which displays the columns and data\n",
        "df.head()"
      ],
      "execution_count": 3,
      "outputs": [
        {
          "output_type": "execute_result",
          "data": {
            "text/html": [
              "\n",
              "  <div id=\"df-bb812ede-1d8d-4898-acba-a768f38ca762\">\n",
              "    <div class=\"colab-df-container\">\n",
              "      <div>\n",
              "<style scoped>\n",
              "    .dataframe tbody tr th:only-of-type {\n",
              "        vertical-align: middle;\n",
              "    }\n",
              "\n",
              "    .dataframe tbody tr th {\n",
              "        vertical-align: top;\n",
              "    }\n",
              "\n",
              "    .dataframe thead th {\n",
              "        text-align: right;\n",
              "    }\n",
              "</style>\n",
              "<table border=\"1\" class=\"dataframe\">\n",
              "  <thead>\n",
              "    <tr style=\"text-align: right;\">\n",
              "      <th></th>\n",
              "      <th>baseline value</th>\n",
              "      <th>accelerations</th>\n",
              "      <th>fetal_movement</th>\n",
              "      <th>uterine_contractions</th>\n",
              "      <th>light_decelerations</th>\n",
              "      <th>severe_decelerations</th>\n",
              "      <th>prolongued_decelerations</th>\n",
              "      <th>abnormal_short_term_variability</th>\n",
              "      <th>mean_value_of_short_term_variability</th>\n",
              "      <th>percentage_of_time_with_abnormal_long_term_variability</th>\n",
              "      <th>...</th>\n",
              "      <th>histogram_min</th>\n",
              "      <th>histogram_max</th>\n",
              "      <th>histogram_number_of_peaks</th>\n",
              "      <th>histogram_number_of_zeroes</th>\n",
              "      <th>histogram_mode</th>\n",
              "      <th>histogram_mean</th>\n",
              "      <th>histogram_median</th>\n",
              "      <th>histogram_variance</th>\n",
              "      <th>histogram_tendency</th>\n",
              "      <th>fetal_health</th>\n",
              "    </tr>\n",
              "  </thead>\n",
              "  <tbody>\n",
              "    <tr>\n",
              "      <th>0</th>\n",
              "      <td>120.0</td>\n",
              "      <td>0.000</td>\n",
              "      <td>0.0</td>\n",
              "      <td>0.000</td>\n",
              "      <td>0.000</td>\n",
              "      <td>0.0</td>\n",
              "      <td>0.0</td>\n",
              "      <td>73.0</td>\n",
              "      <td>0.5</td>\n",
              "      <td>43.0</td>\n",
              "      <td>...</td>\n",
              "      <td>62.0</td>\n",
              "      <td>126.0</td>\n",
              "      <td>2.0</td>\n",
              "      <td>0.0</td>\n",
              "      <td>120.0</td>\n",
              "      <td>137.0</td>\n",
              "      <td>121.0</td>\n",
              "      <td>73.0</td>\n",
              "      <td>1.0</td>\n",
              "      <td>2.0</td>\n",
              "    </tr>\n",
              "    <tr>\n",
              "      <th>1</th>\n",
              "      <td>132.0</td>\n",
              "      <td>0.006</td>\n",
              "      <td>0.0</td>\n",
              "      <td>0.006</td>\n",
              "      <td>0.003</td>\n",
              "      <td>0.0</td>\n",
              "      <td>0.0</td>\n",
              "      <td>17.0</td>\n",
              "      <td>2.1</td>\n",
              "      <td>0.0</td>\n",
              "      <td>...</td>\n",
              "      <td>68.0</td>\n",
              "      <td>198.0</td>\n",
              "      <td>6.0</td>\n",
              "      <td>1.0</td>\n",
              "      <td>141.0</td>\n",
              "      <td>136.0</td>\n",
              "      <td>140.0</td>\n",
              "      <td>12.0</td>\n",
              "      <td>0.0</td>\n",
              "      <td>1.0</td>\n",
              "    </tr>\n",
              "    <tr>\n",
              "      <th>2</th>\n",
              "      <td>133.0</td>\n",
              "      <td>0.003</td>\n",
              "      <td>0.0</td>\n",
              "      <td>0.008</td>\n",
              "      <td>0.003</td>\n",
              "      <td>0.0</td>\n",
              "      <td>0.0</td>\n",
              "      <td>16.0</td>\n",
              "      <td>2.1</td>\n",
              "      <td>0.0</td>\n",
              "      <td>...</td>\n",
              "      <td>68.0</td>\n",
              "      <td>198.0</td>\n",
              "      <td>5.0</td>\n",
              "      <td>1.0</td>\n",
              "      <td>141.0</td>\n",
              "      <td>135.0</td>\n",
              "      <td>138.0</td>\n",
              "      <td>13.0</td>\n",
              "      <td>0.0</td>\n",
              "      <td>1.0</td>\n",
              "    </tr>\n",
              "    <tr>\n",
              "      <th>3</th>\n",
              "      <td>134.0</td>\n",
              "      <td>0.003</td>\n",
              "      <td>0.0</td>\n",
              "      <td>0.008</td>\n",
              "      <td>0.003</td>\n",
              "      <td>0.0</td>\n",
              "      <td>0.0</td>\n",
              "      <td>16.0</td>\n",
              "      <td>2.4</td>\n",
              "      <td>0.0</td>\n",
              "      <td>...</td>\n",
              "      <td>53.0</td>\n",
              "      <td>170.0</td>\n",
              "      <td>11.0</td>\n",
              "      <td>0.0</td>\n",
              "      <td>137.0</td>\n",
              "      <td>134.0</td>\n",
              "      <td>137.0</td>\n",
              "      <td>13.0</td>\n",
              "      <td>1.0</td>\n",
              "      <td>1.0</td>\n",
              "    </tr>\n",
              "    <tr>\n",
              "      <th>4</th>\n",
              "      <td>132.0</td>\n",
              "      <td>0.007</td>\n",
              "      <td>0.0</td>\n",
              "      <td>0.008</td>\n",
              "      <td>0.000</td>\n",
              "      <td>0.0</td>\n",
              "      <td>0.0</td>\n",
              "      <td>16.0</td>\n",
              "      <td>2.4</td>\n",
              "      <td>0.0</td>\n",
              "      <td>...</td>\n",
              "      <td>53.0</td>\n",
              "      <td>170.0</td>\n",
              "      <td>9.0</td>\n",
              "      <td>0.0</td>\n",
              "      <td>137.0</td>\n",
              "      <td>136.0</td>\n",
              "      <td>138.0</td>\n",
              "      <td>11.0</td>\n",
              "      <td>1.0</td>\n",
              "      <td>1.0</td>\n",
              "    </tr>\n",
              "  </tbody>\n",
              "</table>\n",
              "<p>5 rows × 22 columns</p>\n",
              "</div>\n",
              "      <button class=\"colab-df-convert\" onclick=\"convertToInteractive('df-bb812ede-1d8d-4898-acba-a768f38ca762')\"\n",
              "              title=\"Convert this dataframe to an interactive table.\"\n",
              "              style=\"display:none;\">\n",
              "        \n",
              "  <svg xmlns=\"http://www.w3.org/2000/svg\" height=\"24px\"viewBox=\"0 0 24 24\"\n",
              "       width=\"24px\">\n",
              "    <path d=\"M0 0h24v24H0V0z\" fill=\"none\"/>\n",
              "    <path d=\"M18.56 5.44l.94 2.06.94-2.06 2.06-.94-2.06-.94-.94-2.06-.94 2.06-2.06.94zm-11 1L8.5 8.5l.94-2.06 2.06-.94-2.06-.94L8.5 2.5l-.94 2.06-2.06.94zm10 10l.94 2.06.94-2.06 2.06-.94-2.06-.94-.94-2.06-.94 2.06-2.06.94z\"/><path d=\"M17.41 7.96l-1.37-1.37c-.4-.4-.92-.59-1.43-.59-.52 0-1.04.2-1.43.59L10.3 9.45l-7.72 7.72c-.78.78-.78 2.05 0 2.83L4 21.41c.39.39.9.59 1.41.59.51 0 1.02-.2 1.41-.59l7.78-7.78 2.81-2.81c.8-.78.8-2.07 0-2.86zM5.41 20L4 18.59l7.72-7.72 1.47 1.35L5.41 20z\"/>\n",
              "  </svg>\n",
              "      </button>\n",
              "      \n",
              "  <style>\n",
              "    .colab-df-container {\n",
              "      display:flex;\n",
              "      flex-wrap:wrap;\n",
              "      gap: 12px;\n",
              "    }\n",
              "\n",
              "    .colab-df-convert {\n",
              "      background-color: #E8F0FE;\n",
              "      border: none;\n",
              "      border-radius: 50%;\n",
              "      cursor: pointer;\n",
              "      display: none;\n",
              "      fill: #1967D2;\n",
              "      height: 32px;\n",
              "      padding: 0 0 0 0;\n",
              "      width: 32px;\n",
              "    }\n",
              "\n",
              "    .colab-df-convert:hover {\n",
              "      background-color: #E2EBFA;\n",
              "      box-shadow: 0px 1px 2px rgba(60, 64, 67, 0.3), 0px 1px 3px 1px rgba(60, 64, 67, 0.15);\n",
              "      fill: #174EA6;\n",
              "    }\n",
              "\n",
              "    [theme=dark] .colab-df-convert {\n",
              "      background-color: #3B4455;\n",
              "      fill: #D2E3FC;\n",
              "    }\n",
              "\n",
              "    [theme=dark] .colab-df-convert:hover {\n",
              "      background-color: #434B5C;\n",
              "      box-shadow: 0px 1px 3px 1px rgba(0, 0, 0, 0.15);\n",
              "      filter: drop-shadow(0px 1px 2px rgba(0, 0, 0, 0.3));\n",
              "      fill: #FFFFFF;\n",
              "    }\n",
              "  </style>\n",
              "\n",
              "      <script>\n",
              "        const buttonEl =\n",
              "          document.querySelector('#df-bb812ede-1d8d-4898-acba-a768f38ca762 button.colab-df-convert');\n",
              "        buttonEl.style.display =\n",
              "          google.colab.kernel.accessAllowed ? 'block' : 'none';\n",
              "\n",
              "        async function convertToInteractive(key) {\n",
              "          const element = document.querySelector('#df-bb812ede-1d8d-4898-acba-a768f38ca762');\n",
              "          const dataTable =\n",
              "            await google.colab.kernel.invokeFunction('convertToInteractive',\n",
              "                                                     [key], {});\n",
              "          if (!dataTable) return;\n",
              "\n",
              "          const docLinkHtml = 'Like what you see? Visit the ' +\n",
              "            '<a target=\"_blank\" href=https://colab.research.google.com/notebooks/data_table.ipynb>data table notebook</a>'\n",
              "            + ' to learn more about interactive tables.';\n",
              "          element.innerHTML = '';\n",
              "          dataTable['output_type'] = 'display_data';\n",
              "          await google.colab.output.renderOutput(dataTable, element);\n",
              "          const docLink = document.createElement('div');\n",
              "          docLink.innerHTML = docLinkHtml;\n",
              "          element.appendChild(docLink);\n",
              "        }\n",
              "      </script>\n",
              "    </div>\n",
              "  </div>\n",
              "  "
            ],
            "text/plain": [
              "   baseline value  accelerations  fetal_movement  uterine_contractions  \\\n",
              "0           120.0          0.000             0.0                 0.000   \n",
              "1           132.0          0.006             0.0                 0.006   \n",
              "2           133.0          0.003             0.0                 0.008   \n",
              "3           134.0          0.003             0.0                 0.008   \n",
              "4           132.0          0.007             0.0                 0.008   \n",
              "\n",
              "   light_decelerations  severe_decelerations  prolongued_decelerations  \\\n",
              "0                0.000                   0.0                       0.0   \n",
              "1                0.003                   0.0                       0.0   \n",
              "2                0.003                   0.0                       0.0   \n",
              "3                0.003                   0.0                       0.0   \n",
              "4                0.000                   0.0                       0.0   \n",
              "\n",
              "   abnormal_short_term_variability  mean_value_of_short_term_variability  \\\n",
              "0                             73.0                                   0.5   \n",
              "1                             17.0                                   2.1   \n",
              "2                             16.0                                   2.1   \n",
              "3                             16.0                                   2.4   \n",
              "4                             16.0                                   2.4   \n",
              "\n",
              "   percentage_of_time_with_abnormal_long_term_variability  ...  histogram_min  \\\n",
              "0                                               43.0       ...           62.0   \n",
              "1                                                0.0       ...           68.0   \n",
              "2                                                0.0       ...           68.0   \n",
              "3                                                0.0       ...           53.0   \n",
              "4                                                0.0       ...           53.0   \n",
              "\n",
              "   histogram_max  histogram_number_of_peaks  histogram_number_of_zeroes  \\\n",
              "0          126.0                        2.0                         0.0   \n",
              "1          198.0                        6.0                         1.0   \n",
              "2          198.0                        5.0                         1.0   \n",
              "3          170.0                       11.0                         0.0   \n",
              "4          170.0                        9.0                         0.0   \n",
              "\n",
              "   histogram_mode  histogram_mean  histogram_median  histogram_variance  \\\n",
              "0           120.0           137.0             121.0                73.0   \n",
              "1           141.0           136.0             140.0                12.0   \n",
              "2           141.0           135.0             138.0                13.0   \n",
              "3           137.0           134.0             137.0                13.0   \n",
              "4           137.0           136.0             138.0                11.0   \n",
              "\n",
              "   histogram_tendency  fetal_health  \n",
              "0                 1.0           2.0  \n",
              "1                 0.0           1.0  \n",
              "2                 0.0           1.0  \n",
              "3                 1.0           1.0  \n",
              "4                 1.0           1.0  \n",
              "\n",
              "[5 rows x 22 columns]"
            ]
          },
          "metadata": {},
          "execution_count": 3
        }
      ]
    },
    {
      "cell_type": "code",
      "metadata": {
        "colab": {
          "base_uri": "https://localhost:8080/"
        },
        "id": "lqexs2lls0iP",
        "outputId": "8df6b582-6b26-4cc1-cf8a-8870f5ed41a9"
      },
      "source": [
        "# info function is used to get the data type information for each column in dataframe\n",
        "df.info()"
      ],
      "execution_count": 4,
      "outputs": [
        {
          "output_type": "stream",
          "name": "stdout",
          "text": [
            "<class 'pandas.core.frame.DataFrame'>\n",
            "RangeIndex: 2126 entries, 0 to 2125\n",
            "Data columns (total 22 columns):\n",
            " #   Column                                                  Non-Null Count  Dtype  \n",
            "---  ------                                                  --------------  -----  \n",
            " 0   baseline value                                          2126 non-null   float64\n",
            " 1   accelerations                                           2126 non-null   float64\n",
            " 2   fetal_movement                                          2126 non-null   float64\n",
            " 3   uterine_contractions                                    2126 non-null   float64\n",
            " 4   light_decelerations                                     2126 non-null   float64\n",
            " 5   severe_decelerations                                    2126 non-null   float64\n",
            " 6   prolongued_decelerations                                2126 non-null   float64\n",
            " 7   abnormal_short_term_variability                         2126 non-null   float64\n",
            " 8   mean_value_of_short_term_variability                    2126 non-null   float64\n",
            " 9   percentage_of_time_with_abnormal_long_term_variability  2126 non-null   float64\n",
            " 10  mean_value_of_long_term_variability                     2126 non-null   float64\n",
            " 11  histogram_width                                         2126 non-null   float64\n",
            " 12  histogram_min                                           2126 non-null   float64\n",
            " 13  histogram_max                                           2126 non-null   float64\n",
            " 14  histogram_number_of_peaks                               2126 non-null   float64\n",
            " 15  histogram_number_of_zeroes                              2126 non-null   float64\n",
            " 16  histogram_mode                                          2126 non-null   float64\n",
            " 17  histogram_mean                                          2126 non-null   float64\n",
            " 18  histogram_median                                        2126 non-null   float64\n",
            " 19  histogram_variance                                      2126 non-null   float64\n",
            " 20  histogram_tendency                                      2126 non-null   float64\n",
            " 21  fetal_health                                            2126 non-null   float64\n",
            "dtypes: float64(22)\n",
            "memory usage: 365.5 KB\n"
          ]
        }
      ]
    },
    {
      "cell_type": "code",
      "metadata": {
        "colab": {
          "base_uri": "https://localhost:8080/",
          "height": 869
        },
        "id": "JDfRZNcmt8V2",
        "outputId": "a0d4bd47-9c46-48d3-fd30-922e2569b942"
      },
      "source": [
        "# defining figure size\n",
        "plt.figure(figsize=(15,10))\n",
        "# perfoming pair-wise Pearson correlation of all the columns in the dataframe \n",
        "import seaborn as sns\n",
        "mask = np.triu(np.ones_like(df.corr(), dtype=bool))\n",
        "#heat map of correlation values \n",
        "g = sns.heatmap(df.corr(),mask = mask, cmap = \"coolwarm\")\n",
        "# prolonged_decelerations,abnormal_short_term_variability,percentage_of_time_with_abnormal_long_term_variability has highest correlation with fetal_health"
      ],
      "execution_count": 5,
      "outputs": [
        {
          "output_type": "display_data",
          "data": {
            "image/png": "[encoded data removed]",
            "text/plain": [
              "<Figure size 1080x720 with 2 Axes>"
            ]
          },
          "metadata": {
            "needs_background": "light"
          }
        }
      ]
    },
    {
      "cell_type": "code",
      "metadata": {
        "colab": {
          "base_uri": "https://localhost:8080/"
        },
        "id": "80_BA09hvMH_",
        "outputId": "f58ef81f-b830-413c-8254-d111901648ba"
      },
      "source": [
        "# check the class distribution\n",
        "df['fetal_health'].value_counts()"
      ],
      "execution_count": 6,
      "outputs": [
        {
          "output_type": "execute_result",
          "data": {
            "text/plain": [
              "1.0    1655\n",
              "2.0     295\n",
              "3.0     176\n",
              "Name: fetal_health, dtype: int64"
            ]
          },
          "metadata": {},
          "execution_count": 6
        }
      ]
    },
    {
      "cell_type": "code",
      "metadata": {
        "colab": {
          "base_uri": "https://localhost:8080/",
          "height": 297
        },
        "id": "kJlmcBSAvAhd",
        "outputId": "f606d2ca-a628-4f35-c491-5534c586afc3"
      },
      "source": [
        "# label frequencies \n",
        "# Plotting the frequencies using seaborn package to see how the class is distributed\n",
        "import seaborn as sns\n",
        "sns.countplot(x = 'fetal_health', palette = 'pastel', data=df)"
      ],
      "execution_count": 7,
      "outputs": [
        {
          "output_type": "execute_result",
          "data": {
            "text/plain": [
              "<matplotlib.axes._subplots.AxesSubplot at 0x7f9d3ad63410>"
            ]
          },
          "metadata": {},
          "execution_count": 7
        },
        {
          "output_type": "display_data",
          "data": {
            "image/png": "[encoded data removed]",
            "text/plain": [
              "<Figure size 432x288 with 1 Axes>"
            ]
          },
          "metadata": {
            "needs_background": "light"
          }
        }
      ]
    },
    {
      "cell_type": "code",
      "metadata": {
        "colab": {
          "base_uri": "https://localhost:8080/"
        },
        "id": "nM_p9U4pxf6t",
        "outputId": "dad1d248-5e51-497b-b2c8-3a32ccef76e7"
      },
      "source": [
        "#checking missing values for all the columns in the dataframe\n",
        "df.isnull().sum().sort_values( ascending=False)\n",
        "# No missing values"
      ],
      "execution_count": 8,
      "outputs": [
        {
          "output_type": "execute_result",
          "data": {
            "text/plain": [
              "baseline value                                            0\n",
              "accelerations                                             0\n",
              "histogram_tendency                                        0\n",
              "histogram_variance                                        0\n",
              "histogram_median                                          0\n",
              "histogram_mean                                            0\n",
              "histogram_mode                                            0\n",
              "histogram_number_of_zeroes                                0\n",
              "histogram_number_of_peaks                                 0\n",
              "histogram_max                                             0\n",
              "histogram_min                                             0\n",
              "histogram_width                                           0\n",
              "mean_value_of_long_term_variability                       0\n",
              "percentage_of_time_with_abnormal_long_term_variability    0\n",
              "mean_value_of_short_term_variability                      0\n",
              "abnormal_short_term_variability                           0\n",
              "prolongued_decelerations                                  0\n",
              "severe_decelerations                                      0\n",
              "light_decelerations                                       0\n",
              "uterine_contractions                                      0\n",
              "fetal_movement                                            0\n",
              "fetal_health                                              0\n",
              "dtype: int64"
            ]
          },
          "metadata": {},
          "execution_count": 8
        }
      ]
    },
    {
      "cell_type": "code",
      "metadata": {
        "id": "g5u9YX-UyyCE"
      },
      "source": [
        "#Assigning input variables to X by excluding target column\n",
        "X = df.drop('fetal_health', axis=1)\n",
        "\n",
        "#Assigning target variables to Y\n",
        "Y = df['fetal_health']"
      ],
      "execution_count": 9,
      "outputs": []
    },
    {
      "cell_type": "code",
      "metadata": {
        "id": "pfLKdaiczD4Y"
      },
      "source": [
        "# StandardScale the data\n",
        "# import StandardScaler function\n",
        "from sklearn.preprocessing import StandardScaler\n",
        "\n",
        "# also try MinMaxScaler\n",
        "scaler = StandardScaler()\n",
        "\n",
        "#fit the model\n",
        "scaler.fit(X)\n",
        "\n",
        "#scaled data by performing standardizations\n",
        "scaled_data = scaler.transform(X)\n",
        "\n",
        "#creating data frame from scaled_data array\n",
        "scaled_data2 = pd.DataFrame(scaled_data,columns=X.columns,index=X.index)"
      ],
      "execution_count": 10,
      "outputs": []
    },
    {
      "cell_type": "code",
      "metadata": {
        "id": "AUgPwFxazL0R"
      },
      "source": [
        "# Assigning scaled data to variable X1 by excluding target column\n",
        "X1 = scaled_data2\n",
        "\n",
        "\n",
        "# Convert target Y to one hot encoded Y for Neural Network\n",
        "Y1 = pd.get_dummies(Y)"
      ],
      "execution_count": 11,
      "outputs": []
    },
    {
      "cell_type": "code",
      "metadata": {
        "colab": {
          "base_uri": "https://localhost:8080/"
        },
        "id": "e_Wi1llj_RMw",
        "outputId": "5a885b36-361d-41fb-a4cc-bedaa9d702f9"
      },
      "source": [
        "# Dataset is split into training by 80% and testing  with 20% \n",
        "from sklearn.model_selection import train_test_split\n",
        "\n",
        "X_train, X_test, Y_train, Y_test = train_test_split(X1, Y1, test_size = 0.20, random_state = 0)\n",
        "\n",
        "# converting train data set to array values for the model input\n",
        "X_train = X_train.values\n",
        "# converting train data set to array values for the model input\n",
        "X_test = X_test.values\n",
        "\n",
        "\n",
        "# Examine the train and test dataset sizes\n",
        "X_train.shape, X_test.shape"
      ],
      "execution_count": 12,
      "outputs": [
        {
          "output_type": "execute_result",
          "data": {
            "text/plain": [
              "((1700, 21), (426, 21))"
            ]
          },
          "metadata": {},
          "execution_count": 12
        }
      ]
    },
    {
      "cell_type": "code",
      "metadata": {
        "colab": {
          "base_uri": "https://localhost:8080/"
        },
        "id": "vzqZwmyuLRF0",
        "outputId": "10c1b3f4-0cc7-49d1-bfb5-31df6356e307"
      },
      "source": [
        "# Examine the train and test dataset sizes\n",
        "Y_train.shape, Y_test.shape"
      ],
      "execution_count": 13,
      "outputs": [
        {
          "output_type": "execute_result",
          "data": {
            "text/plain": [
              "((1700, 3), (426, 3))"
            ]
          },
          "metadata": {},
          "execution_count": 13
        }
      ]
    },
    {
      "cell_type": "code",
      "metadata": {
        "id": "rI-FJckl9L6v"
      },
      "source": [
        "# importing functions from keras package\n",
        "from keras import models\n",
        "from keras.layers import Dense, Dropout\n",
        "#from keras.utils import to_categorical\n",
        "#from keras.utils.vis_utils import model_to_dot\n",
        "#from IPython.display import SVG"
      ],
      "execution_count": 14,
      "outputs": []
    },
    {
      "cell_type": "code",
      "metadata": {
        "id": "ElPj40Zh-skI"
      },
      "source": [
        "# creating sequential model with 15 neurons in the input layer,15 hidden layer and 3 in the output layer\n",
        "model = models.Sequential()\n",
        "model.add(Dense(15, activation='relu', input_dim = 21 ) )\n",
        "model.add(Dense(15, activation='relu'))\n",
        "model.add(Dense(3, activation='softmax'))\n",
        "\n",
        "# compile sequential neuron model with adam optimizer and accuracy as metrics\n",
        "model.compile(optimizer='adam', \n",
        "                  loss='categorical_crossentropy',\n",
        "                  metrics=['accuracy']\n",
        "                 )\n",
        "\n",
        "# creating validation data using top 180 rows\n",
        "X_val = X_train[:180]\n",
        "Y_val = Y_train[:180]\n",
        "\n",
        "# Assigning remaining data to train set\n",
        "X_train_cut = X_train[180:]\n",
        "Y_train_cut = Y_train[180:]\n",
        "\n",
        "# Fitting the model with 50 epochs and 10 batch sizes\n",
        "history = model.fit(X_train, Y_train, \n",
        "                        epochs=50,\n",
        "                        batch_size=10,\n",
        "                    validation_data = (X_val, Y_val),verbose=0\n",
        "                       )"
      ],
      "execution_count": 15,
      "outputs": []
    },
    {
      "cell_type": "code",
      "metadata": {
        "colab": {
          "base_uri": "https://localhost:8080/"
        },
        "id": "aTwZxE_a4ZZU",
        "outputId": "fa8a3ffa-99d1-44a9-f777-3283b5cb44e1"
      },
      "source": [
        "# evaluating results on the test data set\n",
        "result = model.evaluate(X_test, Y_test)\n",
        "result"
      ],
      "execution_count": 16,
      "outputs": [
        {
          "output_type": "stream",
          "name": "stdout",
          "text": [
            "14/14 [==============================] - 0s 2ms/step - loss: 0.2622 - accuracy: 0.9061\n"
          ]
        },
        {
          "output_type": "execute_result",
          "data": {
            "text/plain": [
              "[0.26217764616012573, 0.9061033129692078]"
            ]
          },
          "metadata": {},
          "execution_count": 16
        }
      ]
    },
    {
      "cell_type": "code",
      "metadata": {
        "id": "bEYFu7HACcGj"
      },
      "source": [
        "from sklearn.metrics import confusion_matrix, precision_score, recall_score, f1_score, cohen_kappa_score\n",
        "# predicting the model on test data\n",
        "y_pred = model.predict(X_test)\n",
        "\n"
      ],
      "execution_count": 17,
      "outputs": []
    },
    {
      "cell_type": "code",
      "metadata": {
        "colab": {
          "base_uri": "https://localhost:8080/"
        },
        "id": "I7DS8MasGmYf",
        "outputId": "58e7d7c2-6657-44c2-c628-5070a4b88039"
      },
      "source": [
        "# arranging data for confusion matrix by converting to ssingle value\n",
        "predicted = np.argmax(y_pred, axis=1)\n",
        "test = Y_test.values.argmax(axis=1)\n",
        "# printing confusion matrix\n",
        "confusion_matrix(test,predicted)\n",
        "\n",
        "\n"
      ],
      "execution_count": 18,
      "outputs": [
        {
          "output_type": "execute_result",
          "data": {
            "text/plain": [
              "array([[313,   7,   6],\n",
              "       [ 17,  40,   1],\n",
              "       [  2,   7,  33]])"
            ]
          },
          "metadata": {},
          "execution_count": 18
        }
      ]
    },
    {
      "cell_type": "code",
      "metadata": {
        "colab": {
          "base_uri": "https://localhost:8080/",
          "height": 1000
        },
        "id": "lzPD2bc_5T49",
        "outputId": "3def17f3-eed6-4a40-a9de-689ef75348d2"
      },
      "source": [
        "# Assigning the loss values at different epochs\n",
        "loss = history.history['loss']\n",
        "val_loss = history.history['val_loss']\n",
        "\n",
        "# Assigning the accuracy values at different epochs   \n",
        "accuracy = history.history['accuracy']\n",
        "val_accuracy = history.history['val_accuracy']\n",
        "\n",
        "# Assigning the metrics values at different epochs      \n",
        "metrics = history.history['accuracy']\n",
        "epochs = range(1, len(metrics) + 1) \n",
        "\n",
        "# plotting training and validation loss at different epochs\n",
        "plt.figure(figsize=(15,8))\n",
        "plt.plot(epochs, loss, color='tab:blue', linestyle='-', linewidth=2, marker='*', label='Training loss')\n",
        "plt.plot(epochs, val_loss, color='tab:orange', linestyle='-', marker='o', label='Validaion loss')\n",
        "plt.title('Training and validation loss [model | {:.2f}]'.format(result[0]), fontsize=16)\n",
        "plt.xlabel('Epoch', fontsize=16)\n",
        "plt.ylabel('Loss', fontsize=16)\n",
        "plt.legend(loc='upper right', fontsize='x-large')\n",
        "plt.tick_params(labelsize=14)\n",
        "plt.show()\n",
        "plt.clf()\n",
        "\n",
        "# plotting training and validation accuracy at different epochs    \n",
        "plt.figure(figsize=(15,8))\n",
        "plt.plot(epochs, accuracy, color='tab:blue', linestyle='-', linewidth=2, marker='*', label='Training accuracy')\n",
        "plt.plot(epochs, val_accuracy, color='tab:orange', linestyle='-', marker='o', label='Validaion accuracy')\n",
        "plt.title('Training and validation accuracy [model  | {:.2f}]'.format(result[1]*100), fontsize=16)\n",
        "plt.xlabel('Epoch', fontsize=16)\n",
        "plt.ylabel('Accuracy', fontsize=16)\n",
        "plt.legend(loc='upper left', fontsize='x-large')\n",
        "plt.tick_params(labelsize=14)\n",
        "plt.show()\n",
        "plt.clf()"
      ],
      "execution_count": 19,
      "outputs": [
        {
          "output_type": "display_data",
          "data": {
            "image/png": "[encoded data removed]",
            "text/plain": [
              "<Figure size 1080x576 with 1 Axes>"
            ]
          },
          "metadata": {
            "needs_background": "light"
          }
        },
        {
          "output_type": "display_data",
          "data": {
            "text/plain": [
              "<Figure size 432x288 with 0 Axes>"
            ]
          },
          "metadata": {}
        },
        {
          "output_type": "display_data",
          "data": {
            "image/png": "[encoded data removed]",
            "text/plain": [
              "<Figure size 1080x576 with 1 Axes>"
            ]
          },
          "metadata": {
            "needs_background": "light"
          }
        },
        {
          "output_type": "display_data",
          "data": {
            "text/plain": [
              "<Figure size 432x288 with 0 Axes>"
            ]
          },
          "metadata": {}
        }
      ]
    },
    {
      "cell_type": "code",
      "metadata": {
        "colab": {
          "base_uri": "https://localhost:8080/"
        },
        "id": "fqmxxj2RAN_W",
        "outputId": "ed81da7b-ebd0-4f39-e36b-f46da76ba233"
      },
      "source": [
        "# running k fold cross validation\n",
        "# Object to describe the result\n",
        "from sklearn.model_selection import cross_val_score\n",
        "from sklearn.model_selection import KFold\n",
        "def baseline_model():\n",
        "    # Create model here\n",
        "    model = models.Sequential()\n",
        "    model.add(Dense(15, input_dim = 21, activation = 'relu')) # Rectified Linear Unit Activation Function\n",
        "    model.add(Dense(15, activation = 'relu'))\n",
        "    model.add(Dense(3, activation = 'softmax')) # Softmax for multi-class classification\n",
        "    # Compile model here\n",
        "    model.compile(loss = 'categorical_crossentropy', optimizer = 'adam', metrics = ['accuracy'])\n",
        "    return model\n",
        "# KFold Cross Validation\n",
        "kfold = KFold(n_splits = 5, shuffle = True)\n",
        "from keras.wrappers.scikit_learn import KerasClassifier\n",
        "\n",
        "\n",
        "estimator = KerasClassifier(build_fn = baseline_model, epochs = 50, batch_size = 10, verbose = 0)\n",
        "# Try different values of splits e.g., 10\n",
        "results = cross_val_score(estimator, X1, Y1, cv = kfold)\n",
        "# Result\n",
        "print(\"Result: %.2f%% (%.2f%%)\" % (results.mean()*100, results.std()*100))"
      ],
      "execution_count": 20,
      "outputs": [
        {
          "output_type": "stream",
          "name": "stderr",
          "text": [
            "/usr/local/lib/python3.7/dist-packages/ipykernel_launcher.py:19: DeprecationWarning: KerasClassifier is deprecated, use Sci-Keras (https://github.com/adriangb/scikeras) instead. See https://www.adriangb.com/scikeras/stable/migration.html for help migrating.\n"
          ]
        },
        {
          "output_type": "stream",
          "name": "stdout",
          "text": [
            "Result: 91.35% (0.70%)\n"
          ]
        }
      ]
    },
    {
      "cell_type": "code",
      "metadata": {
        "colab": {
          "base_uri": "https://localhost:8080/"
        },
        "id": "WppO4qO9DT7z",
        "outputId": "855b8bc4-d273-4b05-f4a4-8d0b9fbca9d2"
      },
      "source": [
        "# created model with 2 hidden layers\n",
        "# Object to describe the result\n",
        "from sklearn.model_selection import cross_val_score\n",
        "from sklearn.model_selection import KFold\n",
        "def baseline_model():\n",
        "    # Create model here\n",
        "    model = models.Sequential()\n",
        "    model.add(Dense(15, input_dim = 21, activation = 'relu')) # Rectified Linear Unit Activation Function\n",
        "    model.add(Dense(15, activation = 'relu'))\n",
        "    model.add(Dense(15, activation = 'relu'))\n",
        "    model.add(Dense(3, activation = 'softmax')) # Softmax for multi-class classification\n",
        "    # Compile model here\n",
        "    model.compile(loss = 'categorical_crossentropy', optimizer = 'adam', metrics = ['accuracy'])\n",
        "    return model\n",
        "# KFold Cross Validation\n",
        "kfold = KFold(n_splits = 5, shuffle = True)\n",
        "from keras.wrappers.scikit_learn import KerasClassifier\n",
        "\n",
        "\n",
        "estimator = KerasClassifier(build_fn = baseline_model, epochs = 50, batch_size = 10, verbose = 0)\n",
        "# Try different values of splits e.g., 10\n",
        "results = cross_val_score(estimator, X1, Y1, cv = kfold)\n",
        "# Result\n",
        "print(\"Result: %.2f%% (%.2f%%)\" % (results.mean()*100, results.std()*100))\n",
        "   \n",
        "    "
      ],
      "execution_count": 21,
      "outputs": [
        {
          "output_type": "stream",
          "name": "stderr",
          "text": [
            "/usr/local/lib/python3.7/dist-packages/ipykernel_launcher.py:20: DeprecationWarning: KerasClassifier is deprecated, use Sci-Keras (https://github.com/adriangb/scikeras) instead. See https://www.adriangb.com/scikeras/stable/migration.html for help migrating.\n"
          ]
        },
        {
          "output_type": "stream",
          "name": "stdout",
          "text": [
            "Result: 91.35% (1.52%)\n"
          ]
        }
      ]
    },
    {
      "cell_type": "code",
      "metadata": {
        "colab": {
          "base_uri": "https://localhost:8080/"
        },
        "id": "aik2rQhkGQEc",
        "outputId": "7b99c542-cda6-4dd4-9ff7-0a8e4f03a7ae"
      },
      "source": [
        "# created model with 3 hidden layers\n",
        "# Object to describe the result\n",
        "from sklearn.model_selection import cross_val_score\n",
        "from sklearn.model_selection import KFold\n",
        "def baseline_model():\n",
        "    # Create model here\n",
        "    model = models.Sequential()\n",
        "    model.add(Dense(15, input_dim = 21, activation = 'relu')) # Rectified Linear Unit Activation Function\n",
        "    model.add(Dense(15, activation = 'relu'))\n",
        "    model.add(Dense(15, activation = 'relu'))\n",
        "    model.add(Dense(15, activation = 'relu'))\n",
        "    model.add(Dense(3, activation = 'softmax')) # Softmax for multi-class classification\n",
        "    # Compile model here\n",
        "    model.compile(loss = 'categorical_crossentropy', optimizer = 'adam', metrics = ['accuracy'])\n",
        "    return model\n",
        "# KFold Cross Validation\n",
        "kfold = KFold(n_splits = 5, shuffle = True)\n",
        "from keras.wrappers.scikit_learn import KerasClassifier\n",
        "\n",
        "\n",
        "estimator = KerasClassifier(build_fn = baseline_model, epochs = 50, batch_size = 10, verbose = 0)\n",
        "# Try different values of splits e.g., 10\n",
        "results = cross_val_score(estimator, X1, Y1, cv = kfold)\n",
        "# Result\n",
        "print(\"Result: %.2f%% (%.2f%%)\" % (results.mean()*100, results.std()*100))"
      ],
      "execution_count": 22,
      "outputs": [
        {
          "output_type": "stream",
          "name": "stderr",
          "text": [
            "/usr/local/lib/python3.7/dist-packages/ipykernel_launcher.py:21: DeprecationWarning: KerasClassifier is deprecated, use Sci-Keras (https://github.com/adriangb/scikeras) instead. See https://www.adriangb.com/scikeras/stable/migration.html for help migrating.\n"
          ]
        },
        {
          "output_type": "stream",
          "name": "stdout",
          "text": [
            "Result: 91.68% (1.17%)\n"
          ]
        }
      ]
    },
    {
      "cell_type": "code",
      "metadata": {
        "colab": {
          "base_uri": "https://localhost:8080/"
        },
        "id": "ubCETON8Gs0t",
        "outputId": "f2f04ae8-6b7a-4be9-bdd7-68befd93df3a"
      },
      "source": [
        "# created model with 1 hidden layer of 25 neurons\n",
        "# Object to describe the result\n",
        "from sklearn.model_selection import cross_val_score\n",
        "from sklearn.model_selection import KFold\n",
        "def baseline_model():\n",
        "    # Create model here\n",
        "    model = models.Sequential()\n",
        "    model.add(Dense(15, input_dim = 21, activation = 'relu')) # Rectified Linear Unit Activation Function\n",
        "    model.add(Dense(25, activation = 'relu'))\n",
        "    model.add(Dense(3, activation = 'softmax')) # Softmax for multi-class classification\n",
        "    # Compile model here\n",
        "    model.compile(loss = 'categorical_crossentropy', optimizer = 'adam', metrics = ['accuracy'])\n",
        "    return model\n",
        "# KFold Cross Validation\n",
        "kfold = KFold(n_splits = 5, shuffle = True)\n",
        "from keras.wrappers.scikit_learn import KerasClassifier\n",
        "\n",
        "\n",
        "estimator = KerasClassifier(build_fn = baseline_model, epochs = 50, batch_size = 10, verbose = 0)\n",
        "# Try different values of splits e.g., 10\n",
        "results = cross_val_score(estimator, X1, Y1, cv = kfold)\n",
        "# Result\n",
        "print(\"Result: %.2f%% (%.2f%%)\" % (results.mean()*100, results.std()*100))"
      ],
      "execution_count": 23,
      "outputs": [
        {
          "output_type": "stream",
          "name": "stderr",
          "text": [
            "/usr/local/lib/python3.7/dist-packages/ipykernel_launcher.py:19: DeprecationWarning: KerasClassifier is deprecated, use Sci-Keras (https://github.com/adriangb/scikeras) instead. See https://www.adriangb.com/scikeras/stable/migration.html for help migrating.\n"
          ]
        },
        {
          "output_type": "stream",
          "name": "stdout",
          "text": [
            "Result: 91.58% (0.70%)\n"
          ]
        }
      ]
    },
    {
      "cell_type": "code",
      "metadata": {
        "colab": {
          "base_uri": "https://localhost:8080/"
        },
        "id": "1UEpFSMUHG2L",
        "outputId": "d11f6aa7-3c9e-490f-9998-1908d3a23d62"
      },
      "source": [
        "# created model with 1 hidden layer with 35 neurons\n",
        "# Object to describe the result\n",
        "from sklearn.model_selection import cross_val_score\n",
        "from sklearn.model_selection import KFold\n",
        "def baseline_model():\n",
        "    # Create model here\n",
        "    model = models.Sequential()\n",
        "    model.add(Dense(15, input_dim = 21, activation = 'relu')) # Rectified Linear Unit Activation Function\n",
        "    model.add(Dense(35, activation = 'relu'))\n",
        "    model.add(Dense(3, activation = 'softmax')) # Softmax for multi-class classification\n",
        "    # Compile model here\n",
        "    model.compile(loss = 'categorical_crossentropy', optimizer = 'adam', metrics = ['accuracy'])\n",
        "    return model\n",
        "# KFold Cross Validation\n",
        "kfold = KFold(n_splits = 5, shuffle = True)\n",
        "from keras.wrappers.scikit_learn import KerasClassifier\n",
        "\n",
        "\n",
        "estimator = KerasClassifier(build_fn = baseline_model, epochs = 50, batch_size = 10, verbose = 0)\n",
        "# Try different values of splits e.g., 10\n",
        "results = cross_val_score(estimator, X1, Y1, cv = kfold)\n",
        "# Result\n",
        "print(\"Result: %.2f%% (%.2f%%)\" % (results.mean()*100, results.std()*100))"
      ],
      "execution_count": 24,
      "outputs": [
        {
          "output_type": "stream",
          "name": "stderr",
          "text": [
            "/usr/local/lib/python3.7/dist-packages/ipykernel_launcher.py:19: DeprecationWarning: KerasClassifier is deprecated, use Sci-Keras (https://github.com/adriangb/scikeras) instead. See https://www.adriangb.com/scikeras/stable/migration.html for help migrating.\n"
          ]
        },
        {
          "output_type": "stream",
          "name": "stdout",
          "text": [
            "Result: 91.49% (0.95%)\n"
          ]
        }
      ]
    },
    {
      "cell_type": "code",
      "metadata": {
        "colab": {
          "base_uri": "https://localhost:8080/"
        },
        "id": "8QmXoOADHrIi",
        "outputId": "859c00e2-fb73-4d60-a8c4-006ba713c8f3"
      },
      "source": [
        "# created model with 1 hidden layer and ran with 100 epochs and batch size 10\n",
        "# Object to describe the result\n",
        "from sklearn.model_selection import cross_val_score\n",
        "from sklearn.model_selection import KFold\n",
        "def baseline_model():\n",
        "    # Create model here\n",
        "    model = models.Sequential()\n",
        "    model.add(Dense(15, input_dim = 21, activation = 'relu')) # Rectified Linear Unit Activation Function\n",
        "    model.add(Dense(15, activation = 'relu'))\n",
        "    model.add(Dense(3, activation = 'softmax')) # Softmax for multi-class classification\n",
        "    # Compile model here\n",
        "    model.compile(loss = 'categorical_crossentropy', optimizer = 'adam', metrics = ['accuracy'])\n",
        "    return model\n",
        "# KFold Cross Validation\n",
        "kfold = KFold(n_splits = 5, shuffle = True)\n",
        "from keras.wrappers.scikit_learn import KerasClassifier\n",
        "\n",
        "\n",
        "estimator = KerasClassifier(build_fn = baseline_model, epochs = 100, batch_size = 10, verbose = 0)\n",
        "# Try different values of splits e.g., 10\n",
        "results = cross_val_score(estimator, X1, Y1, cv = kfold)\n",
        "# Result\n",
        "print(\"Result: %.2f%% (%.2f%%)\" % (results.mean()*100, results.std()*100))"
      ],
      "execution_count": 25,
      "outputs": [
        {
          "output_type": "stream",
          "name": "stderr",
          "text": [
            "/usr/local/lib/python3.7/dist-packages/ipykernel_launcher.py:19: DeprecationWarning: KerasClassifier is deprecated, use Sci-Keras (https://github.com/adriangb/scikeras) instead. See https://www.adriangb.com/scikeras/stable/migration.html for help migrating.\n"
          ]
        },
        {
          "output_type": "stream",
          "name": "stdout",
          "text": [
            "Result: 92.57% (1.93%)\n"
          ]
        }
      ]
    },
    {
      "cell_type": "code",
      "metadata": {
        "colab": {
          "base_uri": "https://localhost:8080/"
        },
        "id": "qn9expbW9IZq",
        "outputId": "aeeaa7c2-51fa-4cec-e7c2-48abca492e80"
      },
      "source": [
        "# created model with 1 hidden layer and ran with 100 epochs and batch size 20\n",
        "# Object to describe the result\n",
        "from sklearn.model_selection import cross_val_score\n",
        "from sklearn.model_selection import KFold\n",
        "def baseline_model():\n",
        "    # Create model here\n",
        "    model = models.Sequential()\n",
        "    model.add(Dense(15, input_dim = 21, activation = 'relu')) # Rectified Linear Unit Activation Function\n",
        "    model.add(Dense(15, activation = 'relu'))\n",
        "    model.add(Dense(3, activation = 'softmax')) # Softmax for multi-class classification\n",
        "    # Compile model here\n",
        "    model.compile(loss = 'categorical_crossentropy', optimizer = 'adam', metrics = ['accuracy'])\n",
        "    return model\n",
        "# KFold Cross Validation\n",
        "kfold = KFold(n_splits = 5, shuffle = True)\n",
        "from keras.wrappers.scikit_learn import KerasClassifier\n",
        "\n",
        "\n",
        "estimator = KerasClassifier(build_fn = baseline_model, epochs = 100, batch_size = 20, verbose = 0)\n",
        "# Try different values of splits e.g., 10\n",
        "results = cross_val_score(estimator, X1, Y1, cv = kfold)\n",
        "# Result\n",
        "print(\"Result: %.2f%% (%.2f%%)\" % (results.mean()*100, results.std()*100))"
      ],
      "execution_count": 26,
      "outputs": [
        {
          "output_type": "stream",
          "name": "stderr",
          "text": [
            "/usr/local/lib/python3.7/dist-packages/ipykernel_launcher.py:19: DeprecationWarning: KerasClassifier is deprecated, use Sci-Keras (https://github.com/adriangb/scikeras) instead. See https://www.adriangb.com/scikeras/stable/migration.html for help migrating.\n"
          ]
        },
        {
          "output_type": "stream",
          "name": "stdout",
          "text": [
            "Result: 91.77% (1.15%)\n"
          ]
        }
      ]
    },
    {
      "cell_type": "code",
      "metadata": {
        "colab": {
          "base_uri": "https://localhost:8080/"
        },
        "id": "OZEGqvjG9d43",
        "outputId": "a709be85-1579-424d-f6f3-40ed1ddb6954"
      },
      "source": [
        "# created model with 1 hidden layer and ran with 50 epocs and batch size 20\n",
        "# Object to describe the result\n",
        "from sklearn.model_selection import cross_val_score\n",
        "from sklearn.model_selection import KFold\n",
        "def baseline_model():\n",
        "    # Create model here\n",
        "    model = models.Sequential()\n",
        "    model.add(Dense(15, input_dim = 21, activation = 'relu')) # Rectified Linear Unit Activation Function\n",
        "    model.add(Dense(15, activation = 'relu'))\n",
        "    model.add(Dense(3, activation = 'softmax')) # Softmax for multi-class classification\n",
        "    # Compile model here\n",
        "    model.compile(loss = 'categorical_crossentropy', optimizer = 'adam', metrics = ['accuracy'])\n",
        "    return model\n",
        "# KFold Cross Validation\n",
        "kfold = KFold(n_splits = 5, shuffle = True)\n",
        "from keras.wrappers.scikit_learn import KerasClassifier\n",
        "\n",
        "\n",
        "estimator = KerasClassifier(build_fn = baseline_model, epochs = 50, batch_size = 20, verbose = 0)\n",
        "# Try different values of splits e.g., 10\n",
        "results = cross_val_score(estimator, X1, Y1, cv = kfold)\n",
        "# Result\n",
        "print(\"Result: %.2f%% (%.2f%%)\" % (results.mean()*100, results.std()*100))"
      ],
      "execution_count": 27,
      "outputs": [
        {
          "output_type": "stream",
          "name": "stderr",
          "text": [
            "/usr/local/lib/python3.7/dist-packages/ipykernel_launcher.py:19: DeprecationWarning: KerasClassifier is deprecated, use Sci-Keras (https://github.com/adriangb/scikeras) instead. See https://www.adriangb.com/scikeras/stable/migration.html for help migrating.\n"
          ]
        },
        {
          "output_type": "stream",
          "name": "stdout",
          "text": [
            "Result: 90.55% (1.10%)\n"
          ]
        }
      ]
    },
    {
      "cell_type": "code",
      "metadata": {
        "colab": {
          "base_uri": "https://localhost:8080/"
        },
        "id": "4sJp1xpQ9wZF",
        "outputId": "55949f00-01d7-4f37-c18f-376fb9e40555"
      },
      "source": [
        "# created model with 1 hidden layer and ran with 500 epochs and batch size 10\n",
        "# Object to describe the result\n",
        "from sklearn.model_selection import cross_val_score\n",
        "from sklearn.model_selection import KFold\n",
        "def baseline_model():\n",
        "    # Create model here\n",
        "    model = models.Sequential()\n",
        "    model.add(Dense(15, input_dim = 21, activation = 'relu')) # Rectified Linear Unit Activation Function\n",
        "    model.add(Dense(15, activation = 'relu'))\n",
        "    model.add(Dense(3, activation = 'softmax')) # Softmax for multi-class classification\n",
        "    # Compile model here\n",
        "    model.compile(loss = 'categorical_crossentropy', optimizer = 'adam', metrics = ['accuracy'])\n",
        "    return model\n",
        "# KFold Cross Validation\n",
        "kfold = KFold(n_splits = 5, shuffle = True)\n",
        "from keras.wrappers.scikit_learn import KerasClassifier\n",
        "\n",
        "\n",
        "estimator = KerasClassifier(build_fn = baseline_model, epochs = 500, batch_size = 10, verbose = 0)\n",
        "# Try different values of splits e.g., 10\n",
        "results = cross_val_score(estimator, X1, Y1, cv = kfold)\n",
        "# Result\n",
        "print(\"Result: %.2f%% (%.2f%%)\" % (results.mean()*100, results.std()*100))"
      ],
      "execution_count": 28,
      "outputs": [
        {
          "output_type": "stream",
          "name": "stderr",
          "text": [
            "/usr/local/lib/python3.7/dist-packages/ipykernel_launcher.py:19: DeprecationWarning: KerasClassifier is deprecated, use Sci-Keras (https://github.com/adriangb/scikeras) instead. See https://www.adriangb.com/scikeras/stable/migration.html for help migrating.\n"
          ]
        },
        {
          "output_type": "stream",
          "name": "stdout",
          "text": [
            "Result: 91.72% (1.77%)\n"
          ]
        }
      ]
    },
    {
      "cell_type": "markdown",
      "metadata": {
        "id": "sdKz7L7CMm91"
      },
      "source": [
        "***Summary***\n",
        "\n",
        "Ran sequential neural network to classify fetal health into three classes based on features extracted from Cardiotocogram  \n",
        "\n",
        "***Correlation***\n",
        "prolonged_decelerations , abnormal_short_term_variability and percentage_of_time_with_abnormal_long_term_variability has highest correlation with fetal_health\n",
        "\n",
        "***Target distribution***\n",
        "Data is imbalanced with highest for class 1. We have coverted data to one hot encoding to fit into model\n",
        "\n",
        "***Data Cleaning***\n",
        "Data doesn't have any missing values. Data is standardized to model\n",
        "\n",
        "***sequnetial model***\n",
        "Built neural network model with 1 hidden layer and got accuracy of 91% , even the crossvalidated model gave  91% accuracy. Plotted the accuracy and loss at differnet epocs\n",
        "\n",
        "**experimenting the neurons and layers**\n",
        "Tried experimenting with different hidden layers, different neurons, different epocs and batch size and found the model with one hidden layer, 25 neurons and 100 epocs. Adding hidden layers didn't improve the results.\n",
        "\n",
        "\n",
        "\n",
        "\n",
        "\n",
        "\n",
        "\n"
      ]
    }
  ]
}