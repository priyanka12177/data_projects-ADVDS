{
  "nbformat": 4,
  "nbformat_minor": 0,
  "metadata": {
    "colab": {
      "name": "Project4.ipynb",
      "provenance": [],
      "collapsed_sections": [],
      "include_colab_link": true
    },
    "kernelspec": {
      "name": "python3",
      "display_name": "Python 3"
    },
    "language_info": {
      "name": "python"
    }
  },
  "cells": [
    {
      "cell_type": "markdown",
      "metadata": {
        "id": "view-in-github",
        "colab_type": "text"
      },
      "source": [
        "<a href=\"https://colab.research.google.com/github/priyanka12177/data_projects-ADVDS/blob/Project4/Project4.ipynb\" target=\"_parent\"><img src=\"https://colab.research.google.com/assets/colab-badge.svg\" alt=\"Open In Colab\"/></a>"
      ]
    },
    {
      "cell_type": "code",
      "metadata": {
        "id": "cqebUq3fzZSi"
      },
      "source": [
        "# Pandas is mainly used for data analysis. Pandas allows importing data from various file formats \n",
        "# such as comma-separated values, JSON, SQL, Microsoft Excel. \n",
        "# Pandas allows various data manipulation operations such as merging, reshaping, selecting, \n",
        "# as well as data cleaning, and data wrangling features.\n",
        "# NumPy has support for large, multi-dimensional arrays and matrices, along with \n",
        "# a large collection of high-level mathematical functions to operate on these arrays.\n",
        "# Import matplotlib  to visualize the data\n",
        "import matplotlib.pyplot as plt\n",
        "import numpy as np\n",
        "import pandas as pd"
      ],
      "execution_count": 1,
      "outputs": []
    },
    {
      "cell_type": "code",
      "metadata": {
        "id": "U1Lfhu7Qzn9d"
      },
      "source": [
        "#Read  file from github into a dataframe\n",
        "#customer satisfaction \n",
        "df_test = pd.read_csv('https://raw.githubusercontent.com/priyanka12177/data_projects-ADVDS/Project4/Test.csv')\n",
        "df_train = pd.read_csv('https://raw.githubusercontent.com/priyanka12177/data_projects-ADVDS/Project4/Train.csv')"
      ],
      "execution_count": 2,
      "outputs": []
    },
    {
      "cell_type": "code",
      "metadata": {
        "id": "qIlJnnZRzn-h",
        "colab": {
          "base_uri": "https://localhost:8080/",
          "height": 206
        },
        "outputId": "ffcfe75f-26a8-4d71-9b8c-c9247944f5d7"
      },
      "source": [
        "#head function is used to get the first 5 rows which displays the columns and data\n",
        "df_train.head()"
      ],
      "execution_count": 3,
      "outputs": [
        {
          "output_type": "execute_result",
          "data": {
            "text/html": [
              "\n",
              "  <div id=\"df-dfb47404-8f53-4896-a205-6f53eb7618ba\">\n",
              "    <div class=\"colab-df-container\">\n",
              "      <div>\n",
              "<style scoped>\n",
              "    .dataframe tbody tr th:only-of-type {\n",
              "        vertical-align: middle;\n",
              "    }\n",
              "\n",
              "    .dataframe tbody tr th {\n",
              "        vertical-align: top;\n",
              "    }\n",
              "\n",
              "    .dataframe thead th {\n",
              "        text-align: right;\n",
              "    }\n",
              "</style>\n",
              "<table border=\"1\" class=\"dataframe\">\n",
              "  <thead>\n",
              "    <tr style=\"text-align: right;\">\n",
              "      <th></th>\n",
              "      <th>ID</th>\n",
              "      <th>Gender</th>\n",
              "      <th>Ever_Married</th>\n",
              "      <th>Age</th>\n",
              "      <th>Graduated</th>\n",
              "      <th>Profession</th>\n",
              "      <th>Work_Experience</th>\n",
              "      <th>Spending_Score</th>\n",
              "      <th>Family_Size</th>\n",
              "      <th>Var_1</th>\n",
              "      <th>Segmentation</th>\n",
              "    </tr>\n",
              "  </thead>\n",
              "  <tbody>\n",
              "    <tr>\n",
              "      <th>0</th>\n",
              "      <td>462809</td>\n",
              "      <td>Male</td>\n",
              "      <td>No</td>\n",
              "      <td>22</td>\n",
              "      <td>No</td>\n",
              "      <td>Healthcare</td>\n",
              "      <td>1.0</td>\n",
              "      <td>Low</td>\n",
              "      <td>4.0</td>\n",
              "      <td>Cat_4</td>\n",
              "      <td>D</td>\n",
              "    </tr>\n",
              "    <tr>\n",
              "      <th>1</th>\n",
              "      <td>462643</td>\n",
              "      <td>Female</td>\n",
              "      <td>Yes</td>\n",
              "      <td>38</td>\n",
              "      <td>Yes</td>\n",
              "      <td>Engineer</td>\n",
              "      <td>NaN</td>\n",
              "      <td>Average</td>\n",
              "      <td>3.0</td>\n",
              "      <td>Cat_4</td>\n",
              "      <td>A</td>\n",
              "    </tr>\n",
              "    <tr>\n",
              "      <th>2</th>\n",
              "      <td>466315</td>\n",
              "      <td>Female</td>\n",
              "      <td>Yes</td>\n",
              "      <td>67</td>\n",
              "      <td>Yes</td>\n",
              "      <td>Engineer</td>\n",
              "      <td>1.0</td>\n",
              "      <td>Low</td>\n",
              "      <td>1.0</td>\n",
              "      <td>Cat_6</td>\n",
              "      <td>B</td>\n",
              "    </tr>\n",
              "    <tr>\n",
              "      <th>3</th>\n",
              "      <td>461735</td>\n",
              "      <td>Male</td>\n",
              "      <td>Yes</td>\n",
              "      <td>67</td>\n",
              "      <td>Yes</td>\n",
              "      <td>Lawyer</td>\n",
              "      <td>0.0</td>\n",
              "      <td>High</td>\n",
              "      <td>2.0</td>\n",
              "      <td>Cat_6</td>\n",
              "      <td>B</td>\n",
              "    </tr>\n",
              "    <tr>\n",
              "      <th>4</th>\n",
              "      <td>462669</td>\n",
              "      <td>Female</td>\n",
              "      <td>Yes</td>\n",
              "      <td>40</td>\n",
              "      <td>Yes</td>\n",
              "      <td>Entertainment</td>\n",
              "      <td>NaN</td>\n",
              "      <td>High</td>\n",
              "      <td>6.0</td>\n",
              "      <td>Cat_6</td>\n",
              "      <td>A</td>\n",
              "    </tr>\n",
              "  </tbody>\n",
              "</table>\n",
              "</div>\n",
              "      <button class=\"colab-df-convert\" onclick=\"convertToInteractive('df-dfb47404-8f53-4896-a205-6f53eb7618ba')\"\n",
              "              title=\"Convert this dataframe to an interactive table.\"\n",
              "              style=\"display:none;\">\n",
              "        \n",
              "  <svg xmlns=\"http://www.w3.org/2000/svg\" height=\"24px\"viewBox=\"0 0 24 24\"\n",
              "       width=\"24px\">\n",
              "    <path d=\"M0 0h24v24H0V0z\" fill=\"none\"/>\n",
              "    <path d=\"M18.56 5.44l.94 2.06.94-2.06 2.06-.94-2.06-.94-.94-2.06-.94 2.06-2.06.94zm-11 1L8.5 8.5l.94-2.06 2.06-.94-2.06-.94L8.5 2.5l-.94 2.06-2.06.94zm10 10l.94 2.06.94-2.06 2.06-.94-2.06-.94-.94-2.06-.94 2.06-2.06.94z\"/><path d=\"M17.41 7.96l-1.37-1.37c-.4-.4-.92-.59-1.43-.59-.52 0-1.04.2-1.43.59L10.3 9.45l-7.72 7.72c-.78.78-.78 2.05 0 2.83L4 21.41c.39.39.9.59 1.41.59.51 0 1.02-.2 1.41-.59l7.78-7.78 2.81-2.81c.8-.78.8-2.07 0-2.86zM5.41 20L4 18.59l7.72-7.72 1.47 1.35L5.41 20z\"/>\n",
              "  </svg>\n",
              "      </button>\n",
              "      \n",
              "  <style>\n",
              "    .colab-df-container {\n",
              "      display:flex;\n",
              "      flex-wrap:wrap;\n",
              "      gap: 12px;\n",
              "    }\n",
              "\n",
              "    .colab-df-convert {\n",
              "      background-color: #E8F0FE;\n",
              "      border: none;\n",
              "      border-radius: 50%;\n",
              "      cursor: pointer;\n",
              "      display: none;\n",
              "      fill: #1967D2;\n",
              "      height: 32px;\n",
              "      padding: 0 0 0 0;\n",
              "      width: 32px;\n",
              "    }\n",
              "\n",
              "    .colab-df-convert:hover {\n",
              "      background-color: #E2EBFA;\n",
              "      box-shadow: 0px 1px 2px rgba(60, 64, 67, 0.3), 0px 1px 3px 1px rgba(60, 64, 67, 0.15);\n",
              "      fill: #174EA6;\n",
              "    }\n",
              "\n",
              "    [theme=dark] .colab-df-convert {\n",
              "      background-color: #3B4455;\n",
              "      fill: #D2E3FC;\n",
              "    }\n",
              "\n",
              "    [theme=dark] .colab-df-convert:hover {\n",
              "      background-color: #434B5C;\n",
              "      box-shadow: 0px 1px 3px 1px rgba(0, 0, 0, 0.15);\n",
              "      filter: drop-shadow(0px 1px 2px rgba(0, 0, 0, 0.3));\n",
              "      fill: #FFFFFF;\n",
              "    }\n",
              "  </style>\n",
              "\n",
              "      <script>\n",
              "        const buttonEl =\n",
              "          document.querySelector('#df-dfb47404-8f53-4896-a205-6f53eb7618ba button.colab-df-convert');\n",
              "        buttonEl.style.display =\n",
              "          google.colab.kernel.accessAllowed ? 'block' : 'none';\n",
              "\n",
              "        async function convertToInteractive(key) {\n",
              "          const element = document.querySelector('#df-dfb47404-8f53-4896-a205-6f53eb7618ba');\n",
              "          const dataTable =\n",
              "            await google.colab.kernel.invokeFunction('convertToInteractive',\n",
              "                                                     [key], {});\n",
              "          if (!dataTable) return;\n",
              "\n",
              "          const docLinkHtml = 'Like what you see? Visit the ' +\n",
              "            '<a target=\"_blank\" href=https://colab.research.google.com/notebooks/data_table.ipynb>data table notebook</a>'\n",
              "            + ' to learn more about interactive tables.';\n",
              "          element.innerHTML = '';\n",
              "          dataTable['output_type'] = 'display_data';\n",
              "          await google.colab.output.renderOutput(dataTable, element);\n",
              "          const docLink = document.createElement('div');\n",
              "          docLink.innerHTML = docLinkHtml;\n",
              "          element.appendChild(docLink);\n",
              "        }\n",
              "      </script>\n",
              "    </div>\n",
              "  </div>\n",
              "  "
            ],
            "text/plain": [
              "       ID  Gender Ever_Married  ...  Family_Size  Var_1 Segmentation\n",
              "0  462809    Male           No  ...          4.0  Cat_4            D\n",
              "1  462643  Female          Yes  ...          3.0  Cat_4            A\n",
              "2  466315  Female          Yes  ...          1.0  Cat_6            B\n",
              "3  461735    Male          Yes  ...          2.0  Cat_6            B\n",
              "4  462669  Female          Yes  ...          6.0  Cat_6            A\n",
              "\n",
              "[5 rows x 11 columns]"
            ]
          },
          "metadata": {},
          "execution_count": 3
        }
      ]
    },
    {
      "cell_type": "code",
      "metadata": {
        "id": "wB8AFKNfzoDy",
        "colab": {
          "base_uri": "https://localhost:8080/",
          "height": 206
        },
        "outputId": "8f0f95fe-4960-469e-a944-d0d000338c8c"
      },
      "source": [
        "#head function is used to get the first 5 rows which displays the columns and data\n",
        "df_test.head()"
      ],
      "execution_count": 4,
      "outputs": [
        {
          "output_type": "execute_result",
          "data": {
            "text/html": [
              "\n",
              "  <div id=\"df-9f332cab-ff37-4c0c-8bf7-5f556e0cbc63\">\n",
              "    <div class=\"colab-df-container\">\n",
              "      <div>\n",
              "<style scoped>\n",
              "    .dataframe tbody tr th:only-of-type {\n",
              "        vertical-align: middle;\n",
              "    }\n",
              "\n",
              "    .dataframe tbody tr th {\n",
              "        vertical-align: top;\n",
              "    }\n",
              "\n",
              "    .dataframe thead th {\n",
              "        text-align: right;\n",
              "    }\n",
              "</style>\n",
              "<table border=\"1\" class=\"dataframe\">\n",
              "  <thead>\n",
              "    <tr style=\"text-align: right;\">\n",
              "      <th></th>\n",
              "      <th>ID</th>\n",
              "      <th>Gender</th>\n",
              "      <th>Ever_Married</th>\n",
              "      <th>Age</th>\n",
              "      <th>Graduated</th>\n",
              "      <th>Profession</th>\n",
              "      <th>Work_Experience</th>\n",
              "      <th>Spending_Score</th>\n",
              "      <th>Family_Size</th>\n",
              "      <th>Var_1</th>\n",
              "      <th>Segmentation</th>\n",
              "    </tr>\n",
              "  </thead>\n",
              "  <tbody>\n",
              "    <tr>\n",
              "      <th>0</th>\n",
              "      <td>458989</td>\n",
              "      <td>Female</td>\n",
              "      <td>Yes</td>\n",
              "      <td>36</td>\n",
              "      <td>Yes</td>\n",
              "      <td>Engineer</td>\n",
              "      <td>0.0</td>\n",
              "      <td>Low</td>\n",
              "      <td>1.0</td>\n",
              "      <td>Cat_6</td>\n",
              "      <td>B</td>\n",
              "    </tr>\n",
              "    <tr>\n",
              "      <th>1</th>\n",
              "      <td>458994</td>\n",
              "      <td>Male</td>\n",
              "      <td>Yes</td>\n",
              "      <td>37</td>\n",
              "      <td>Yes</td>\n",
              "      <td>Healthcare</td>\n",
              "      <td>8.0</td>\n",
              "      <td>Average</td>\n",
              "      <td>4.0</td>\n",
              "      <td>Cat_6</td>\n",
              "      <td>A</td>\n",
              "    </tr>\n",
              "    <tr>\n",
              "      <th>2</th>\n",
              "      <td>458996</td>\n",
              "      <td>Female</td>\n",
              "      <td>Yes</td>\n",
              "      <td>69</td>\n",
              "      <td>No</td>\n",
              "      <td>NaN</td>\n",
              "      <td>0.0</td>\n",
              "      <td>Low</td>\n",
              "      <td>1.0</td>\n",
              "      <td>Cat_6</td>\n",
              "      <td>A</td>\n",
              "    </tr>\n",
              "    <tr>\n",
              "      <th>3</th>\n",
              "      <td>459000</td>\n",
              "      <td>Male</td>\n",
              "      <td>Yes</td>\n",
              "      <td>59</td>\n",
              "      <td>No</td>\n",
              "      <td>Executive</td>\n",
              "      <td>11.0</td>\n",
              "      <td>High</td>\n",
              "      <td>2.0</td>\n",
              "      <td>Cat_6</td>\n",
              "      <td>B</td>\n",
              "    </tr>\n",
              "    <tr>\n",
              "      <th>4</th>\n",
              "      <td>459001</td>\n",
              "      <td>Female</td>\n",
              "      <td>No</td>\n",
              "      <td>19</td>\n",
              "      <td>No</td>\n",
              "      <td>Marketing</td>\n",
              "      <td>NaN</td>\n",
              "      <td>Low</td>\n",
              "      <td>4.0</td>\n",
              "      <td>Cat_6</td>\n",
              "      <td>A</td>\n",
              "    </tr>\n",
              "  </tbody>\n",
              "</table>\n",
              "</div>\n",
              "      <button class=\"colab-df-convert\" onclick=\"convertToInteractive('df-9f332cab-ff37-4c0c-8bf7-5f556e0cbc63')\"\n",
              "              title=\"Convert this dataframe to an interactive table.\"\n",
              "              style=\"display:none;\">\n",
              "        \n",
              "  <svg xmlns=\"http://www.w3.org/2000/svg\" height=\"24px\"viewBox=\"0 0 24 24\"\n",
              "       width=\"24px\">\n",
              "    <path d=\"M0 0h24v24H0V0z\" fill=\"none\"/>\n",
              "    <path d=\"M18.56 5.44l.94 2.06.94-2.06 2.06-.94-2.06-.94-.94-2.06-.94 2.06-2.06.94zm-11 1L8.5 8.5l.94-2.06 2.06-.94-2.06-.94L8.5 2.5l-.94 2.06-2.06.94zm10 10l.94 2.06.94-2.06 2.06-.94-2.06-.94-.94-2.06-.94 2.06-2.06.94z\"/><path d=\"M17.41 7.96l-1.37-1.37c-.4-.4-.92-.59-1.43-.59-.52 0-1.04.2-1.43.59L10.3 9.45l-7.72 7.72c-.78.78-.78 2.05 0 2.83L4 21.41c.39.39.9.59 1.41.59.51 0 1.02-.2 1.41-.59l7.78-7.78 2.81-2.81c.8-.78.8-2.07 0-2.86zM5.41 20L4 18.59l7.72-7.72 1.47 1.35L5.41 20z\"/>\n",
              "  </svg>\n",
              "      </button>\n",
              "      \n",
              "  <style>\n",
              "    .colab-df-container {\n",
              "      display:flex;\n",
              "      flex-wrap:wrap;\n",
              "      gap: 12px;\n",
              "    }\n",
              "\n",
              "    .colab-df-convert {\n",
              "      background-color: #E8F0FE;\n",
              "      border: none;\n",
              "      border-radius: 50%;\n",
              "      cursor: pointer;\n",
              "      display: none;\n",
              "      fill: #1967D2;\n",
              "      height: 32px;\n",
              "      padding: 0 0 0 0;\n",
              "      width: 32px;\n",
              "    }\n",
              "\n",
              "    .colab-df-convert:hover {\n",
              "      background-color: #E2EBFA;\n",
              "      box-shadow: 0px 1px 2px rgba(60, 64, 67, 0.3), 0px 1px 3px 1px rgba(60, 64, 67, 0.15);\n",
              "      fill: #174EA6;\n",
              "    }\n",
              "\n",
              "    [theme=dark] .colab-df-convert {\n",
              "      background-color: #3B4455;\n",
              "      fill: #D2E3FC;\n",
              "    }\n",
              "\n",
              "    [theme=dark] .colab-df-convert:hover {\n",
              "      background-color: #434B5C;\n",
              "      box-shadow: 0px 1px 3px 1px rgba(0, 0, 0, 0.15);\n",
              "      filter: drop-shadow(0px 1px 2px rgba(0, 0, 0, 0.3));\n",
              "      fill: #FFFFFF;\n",
              "    }\n",
              "  </style>\n",
              "\n",
              "      <script>\n",
              "        const buttonEl =\n",
              "          document.querySelector('#df-9f332cab-ff37-4c0c-8bf7-5f556e0cbc63 button.colab-df-convert');\n",
              "        buttonEl.style.display =\n",
              "          google.colab.kernel.accessAllowed ? 'block' : 'none';\n",
              "\n",
              "        async function convertToInteractive(key) {\n",
              "          const element = document.querySelector('#df-9f332cab-ff37-4c0c-8bf7-5f556e0cbc63');\n",
              "          const dataTable =\n",
              "            await google.colab.kernel.invokeFunction('convertToInteractive',\n",
              "                                                     [key], {});\n",
              "          if (!dataTable) return;\n",
              "\n",
              "          const docLinkHtml = 'Like what you see? Visit the ' +\n",
              "            '<a target=\"_blank\" href=https://colab.research.google.com/notebooks/data_table.ipynb>data table notebook</a>'\n",
              "            + ' to learn more about interactive tables.';\n",
              "          element.innerHTML = '';\n",
              "          dataTable['output_type'] = 'display_data';\n",
              "          await google.colab.output.renderOutput(dataTable, element);\n",
              "          const docLink = document.createElement('div');\n",
              "          docLink.innerHTML = docLinkHtml;\n",
              "          element.appendChild(docLink);\n",
              "        }\n",
              "      </script>\n",
              "    </div>\n",
              "  </div>\n",
              "  "
            ],
            "text/plain": [
              "       ID  Gender Ever_Married  ...  Family_Size  Var_1 Segmentation\n",
              "0  458989  Female          Yes  ...          1.0  Cat_6            B\n",
              "1  458994    Male          Yes  ...          4.0  Cat_6            A\n",
              "2  458996  Female          Yes  ...          1.0  Cat_6            A\n",
              "3  459000    Male          Yes  ...          2.0  Cat_6            B\n",
              "4  459001  Female           No  ...          4.0  Cat_6            A\n",
              "\n",
              "[5 rows x 11 columns]"
            ]
          },
          "metadata": {},
          "execution_count": 4
        }
      ]
    },
    {
      "cell_type": "code",
      "metadata": {
        "id": "WKE1qhhnzoPx",
        "colab": {
          "base_uri": "https://localhost:8080/"
        },
        "outputId": "18f43a4c-aa0b-45de-a981-1ef7d3a609eb"
      },
      "source": [
        "# concatenating two dataframes to get union train and test data\n",
        "df = pd.concat ([df_train, df_test])\n",
        "# Examine the  dataset sizes\n",
        "df.shape\n"
      ],
      "execution_count": 5,
      "outputs": [
        {
          "output_type": "execute_result",
          "data": {
            "text/plain": [
              "(10695, 11)"
            ]
          },
          "metadata": {},
          "execution_count": 5
        }
      ]
    },
    {
      "cell_type": "code",
      "metadata": {
        "colab": {
          "base_uri": "https://localhost:8080/"
        },
        "id": "tkGmXtx14zyn",
        "outputId": "9162a174-a546-4e6c-baae-7e2ccf516876"
      },
      "source": [
        "# checking the target column distribution\n",
        "df['Segmentation'].value_counts()"
      ],
      "execution_count": 6,
      "outputs": [
        {
          "output_type": "execute_result",
          "data": {
            "text/plain": [
              "D    3027\n",
              "A    2818\n",
              "C    2442\n",
              "B    2408\n",
              "Name: Segmentation, dtype: int64"
            ]
          },
          "metadata": {},
          "execution_count": 6
        }
      ]
    },
    {
      "cell_type": "code",
      "metadata": {
        "id": "oLlrvoYBBxrs"
      },
      "source": [
        "# ENcoding the target column to covert to numerical\n",
        "# importing the ordinalencoder function from sklearn\n",
        "from sklearn.preprocessing import OrdinalEncoder\n",
        "enc = OrdinalEncoder()\n",
        "df[[\"Segmentation\"]] = enc.fit_transform(df[[\"Segmentation\"]])"
      ],
      "execution_count": 7,
      "outputs": []
    },
    {
      "cell_type": "code",
      "metadata": {
        "id": "pHkXD_oL2IAJ",
        "colab": {
          "base_uri": "https://localhost:8080/",
          "height": 345
        },
        "outputId": "f3b6fede-0ca7-438c-e9be-a6c32dea8f96"
      },
      "source": [
        "# perfoming pair-wise Pearson correlation of all the columns in the dataframe \n",
        "import seaborn as sns\n",
        "#heat map of correlation values \n",
        "g = sns.heatmap(df.corr(),\n",
        "                annot=True, cmap = \"cool\")\n",
        "# Target has highest correlation with family size"
      ],
      "execution_count": 8,
      "outputs": [
        {
          "output_type": "display_data",
          "data": {
            "image/png": "[encoded data removed]",
            "text/plain": [
              "<Figure size 432x288 with 2 Axes>"
            ]
          },
          "metadata": {
            "needs_background": "light"
          }
        }
      ]
    },
    {
      "cell_type": "code",
      "metadata": {
        "colab": {
          "base_uri": "https://localhost:8080/"
        },
        "id": "BZawx_VgDLHC",
        "outputId": "ad06b23a-e63a-4c78-f82c-58f0f2aba432"
      },
      "source": [
        "#checking missing values for all the columns in the dataframe\n",
        "df.isnull().sum().sort_values( ascending=False)"
      ],
      "execution_count": 9,
      "outputs": [
        {
          "output_type": "execute_result",
          "data": {
            "text/plain": [
              "Work_Experience    1098\n",
              "Family_Size         448\n",
              "Ever_Married        190\n",
              "Profession          162\n",
              "Var_1               108\n",
              "Graduated           102\n",
              "ID                    0\n",
              "Gender                0\n",
              "Age                   0\n",
              "Spending_Score        0\n",
              "Segmentation          0\n",
              "dtype: int64"
            ]
          },
          "metadata": {},
          "execution_count": 9
        }
      ]
    },
    {
      "cell_type": "code",
      "metadata": {
        "id": "7Bx_IfdyXUWp"
      },
      "source": [
        "##Assigning input variables to X_train by excluding target column  and ID\n",
        "X_train = df.drop(columns=['ID','Segmentation'])\n",
        "##Assigning target variables to y_train\n",
        "y_train = df.Segmentation"
      ],
      "execution_count": 10,
      "outputs": []
    },
    {
      "cell_type": "code",
      "metadata": {
        "id": "IBnGClVJ2ITd"
      },
      "source": [
        "# importing pipeline, imputing, preprocessing functions from sklearn package for building pipeline\n",
        "from sklearn.compose import ColumnTransformer\n",
        "from sklearn.pipeline import Pipeline, make_pipeline\n",
        "from sklearn.impute import SimpleImputer, KNNImputer\n",
        "from sklearn.preprocessing import OneHotEncoder, StandardScaler, OrdinalEncoder, MinMaxScaler\n",
        "\n",
        "\n",
        "########## First create a pipeline for the categoric attributes\n",
        "# assigning the categorical values\n",
        "cat_cols = ['Gender', 'Ever_Married', 'Graduated','Profession','Spending_Score','Var_1']\n",
        "\n",
        "#building pipeline with imputer as most_frequent\n",
        "cat_transformer = Pipeline(steps=[\n",
        "    # strategies are mean, median, most_frequent, etc.\n",
        "    ('imputer', SimpleImputer(strategy='most_frequent')),\n",
        "\n",
        "    # In ordinal encoding, each unique category value is assigned an integer value.\n",
        "    ('ordinal', OrdinalEncoder())\n",
        "])\n",
        "\n",
        "\n",
        "\n",
        "\n",
        "########## Second create a pipeline for the numeric attributes\n",
        "# assigning the numeric variables\n",
        "num_cols = ['Age', 'Work_Experience','Family_Size']\n",
        "\n",
        "num_transformer = Pipeline(steps=[\n",
        "    # Number of neighboring samples to use for K-nearest neighor imputation\n",
        "    ('imputer', KNNImputer(n_neighbors=5)),\n",
        "\n",
        "    # StandardScaler makes mean = 0 and scales the data to unit variance \n",
        "    ('scaler', StandardScaler())\n",
        "])\n",
        "\n",
        "\n",
        "\n",
        "########## Finally, apply column transformations\n",
        "\n",
        "preprocessor = ColumnTransformer(\n",
        "    transformers=[\n",
        "        ('num', num_transformer, num_cols),\n",
        "        ('cat', cat_transformer, cat_cols)\n",
        "    ])"
      ],
      "execution_count": 11,
      "outputs": []
    },
    {
      "cell_type": "code",
      "metadata": {
        "id": "wchhM_FrXc5H"
      },
      "source": [
        "# importing the Decisiontree and SVC from sklearn\n",
        "from sklearn.tree import DecisionTreeClassifier\n",
        "from sklearn.svm import SVC\n",
        "from sklearn.model_selection import train_test_split, cross_val_score, GridSearchCV\n",
        "\n",
        "########## SVC with A linear kernel classifier\n",
        "linear_svc_clf = Pipeline(steps=[('preprocessor', preprocessor),('classifier', SVC(kernel='linear'))])\n",
        "\n",
        "linear_svc_clf_score = cross_val_score(linear_svc_clf, X_train, y_train, cv=3, scoring=\"accuracy\").mean()\n",
        "\n",
        "########## SVC with a RBF kernel classifier\n",
        "rbf_svc_clf = Pipeline(steps=[('preprocessor', preprocessor), ('classifier', SVC(kernel='rbf'))])\n",
        "\n",
        "# applying the cross val score function\n",
        "rbf_svc_clf_score = cross_val_score(rbf_svc_clf, X_train, y_train, cv=3, scoring=\"accuracy\").mean()\n",
        "\n",
        "########## SVC with a poly kernel classifier\n",
        "poly_svc_clf = Pipeline(steps=[('preprocessor', preprocessor), ('classifier', SVC(kernel='poly'))])\n",
        "\n",
        "# applying the cross val score function\n",
        "poly_svc_clf_score = cross_val_score(poly_svc_clf, X_train, y_train, cv=3, scoring=\"accuracy\").mean()\n",
        "\n",
        "\n",
        "########## A decicion tree with gini as criteria\n",
        "gini_dt_clf = Pipeline(steps=[('preprocessor', preprocessor),\n",
        "                      ('classifier', DecisionTreeClassifier(criterion='gini'))])\n",
        "\n",
        "# applying the cross val score function\n",
        "gini_dt_score = cross_val_score(gini_dt_clf, X_train, y_train, cv=3, scoring=\"accuracy\").mean()\n",
        "\n",
        "\n",
        "########## A decicion tree with entropy as criteria\n",
        "entropy_dt_clf = Pipeline(steps=[('preprocessor', preprocessor),\n",
        "                      ('classifier', DecisionTreeClassifier(criterion='entropy'))])\n",
        "\n",
        "# applying the cross val score function\n",
        "entropy_dt_score = cross_val_score(entropy_dt_clf, X_train, y_train, cv=3, scoring=\"accuracy\").mean()\n",
        "\n",
        "\n"
      ],
      "execution_count": 12,
      "outputs": []
    },
    {
      "cell_type": "code",
      "metadata": {
        "id": "rtaDePSgtq-2",
        "colab": {
          "base_uri": "https://localhost:8080/",
          "height": 281
        },
        "outputId": "40c1e559-8095-4a16-9f6a-f86b4d0c47ce"
      },
      "source": [
        "# Summarize the findings for all models\n",
        "labels = ['SVC (Linear)', 'SVC (Poly)','SVC (RBF)', 'DT (Gini)', 'DT (Entropy)']\n",
        "training_scores = [linear_svc_clf_score,rbf_svc_clf_score,poly_svc_clf_score, gini_dt_score, entropy_dt_score]\n",
        "\n",
        "x = np.arange(len(labels))  # the label locations\n",
        "width = 0.35  # the width of the bars\n",
        "\n",
        "fig, ax = plt.subplots()\n",
        "rects1 = ax.bar(x - width/2, training_scores, width, label='CV=3', color='orange')\n",
        "\n",
        "# Add some text for labels, title and custom x-axis tick labels, etc.\n",
        "ax.set_ylabel('Accuracy')\n",
        "ax.set_xticks(x)\n",
        "ax.set_ylim(0,1)\n",
        "ax.set_xticklabels(labels)\n",
        "ax.legend(bbox_to_anchor = (1.3, 1.0), loc='upper right')\n",
        "for index,data in enumerate(training_scores):\n",
        "    plt.text(x=index , y =data , s=round(data,2) , fontdict=dict(fontsize=15))\n",
        "plt.title('Model Comparisons')\n",
        "plt.show()"
      ],
      "execution_count": 13,
      "outputs": [
        {
          "output_type": "display_data",
          "data": {
            "image/png": "[encoded data removed]",
            "text/plain": [
              "<Figure size 432x288 with 1 Axes>"
            ]
          },
          "metadata": {
            "needs_background": "light"
          }
        }
      ]
    },
    {
      "cell_type": "code",
      "metadata": {
        "id": "XA33HepytrAh",
        "colab": {
          "base_uri": "https://localhost:8080/",
          "height": 895
        },
        "outputId": "61b61688-4b57-430b-a4b8-1c90f90b78a8"
      },
      "source": [
        "# Convert the decision tree model to text and graph\n",
        "\n",
        "from matplotlib import pyplot\n",
        "from sklearn.tree import export_text, export_graphviz\n",
        "import graphviz\n",
        "\n",
        "# we need to refit the DT model that is part of a composite pipe before exporting it as text\n",
        "entropy_dt_clf['classifier'].fit(preprocessor.fit_transform(X_train), y_train)\n",
        "\n",
        "\n",
        "# display the induced decision tree as a series of logical rules\n",
        "text_representation = export_text(entropy_dt_clf['classifier'],\n",
        "                                  feature_names=['Gender', 'Ever_Married', 'Age', 'Graduated', 'Profession','Work_Experience'\n",
        "                                  ,'Spending_Score','Family_Size','Var_1'],\n",
        "                                  max_depth=2)\n",
        "print(text_representation)\n",
        "\n",
        "\n",
        "# draw the induced decision tree\n",
        "dot_data = export_graphviz(entropy_dt_clf['classifier'],\n",
        "                                  max_depth=2,\n",
        "                                  feature_names=['Gender', 'Ever_Married', 'Age', 'Graduated', 'Profession','Work_Experience'\n",
        "                                  ,'Spending_Score','Family_Size','Var_1'],\n",
        "                                  filled=True)\n",
        "\n",
        "graph = graphviz.Source(dot_data, format=\"png\") \n",
        "graph"
      ],
      "execution_count": 14,
      "outputs": [
        {
          "output_type": "stream",
          "name": "stdout",
          "text": [
            "|--- Gender <= -0.57\n",
            "|   |--- Gender <= -1.16\n",
            "|   |   |--- Spending_Score <= 4.50\n",
            "|   |   |   |--- truncated branch of depth 15\n",
            "|   |   |--- Spending_Score >  4.50\n",
            "|   |   |   |--- truncated branch of depth 16\n",
            "|   |--- Gender >  -1.16\n",
            "|   |   |--- Spending_Score <= 3.50\n",
            "|   |   |   |--- truncated branch of depth 22\n",
            "|   |   |--- Spending_Score >  3.50\n",
            "|   |   |   |--- truncated branch of depth 22\n",
            "|--- Gender >  -0.57\n",
            "|   |--- Family_Size <= 1.50\n",
            "|   |   |--- Work_Experience <= 0.50\n",
            "|   |   |   |--- truncated branch of depth 23\n",
            "|   |   |--- Work_Experience >  0.50\n",
            "|   |   |   |--- truncated branch of depth 28\n",
            "|   |--- Family_Size >  1.50\n",
            "|   |   |--- Spending_Score <= 0.50\n",
            "|   |   |   |--- truncated branch of depth 22\n",
            "|   |   |--- Spending_Score >  0.50\n",
            "|   |   |   |--- truncated branch of depth 23\n",
            "\n"
          ]
        },
        {
          "output_type": "execute_result",
          "data": {
            "text/plain": [
              "<graphviz.files.Source at 0x7f2f0344aed0>"
            ],
            "image/svg+xml": "<?xml version=\"1.0\" encoding=\"UTF-8\" standalone=\"no\"?>\n<!DOCTYPE svg PUBLIC \"-//W3C//DTD SVG 1.1//EN\"\n \"http://www.w3.org/Graphics/SVG/1.1/DTD/svg11.dtd\">\n<!-- Generated by graphviz version 2.40.1 (20161225.0304)\n -->\n<!-- Title: Tree Pages: 1 -->\n<svg width=\"862pt\" height=\"356pt\"\n viewBox=\"0.00 0.00 861.50 356.00\" xmlns=\"http://www.w3.org/2000/svg\" xmlns:xlink=\"http://www.w3.org/1999/xlink\">\n<g id=\"graph0\" class=\"graph\" transform=\"scale(1 1) rotate(0) translate(4 352)\">\n<title>Tree</title>\n<polygon fill=\"#ffffff\" stroke=\"transparent\" points=\"-4,4 -4,-352 857.5,-352 857.5,4 -4,4\"/>\n<!-- 0 -->\n<g id=\"node1\" class=\"node\">\n<title>0</title>\n<polygon fill=\"#fefafe\" stroke=\"#000000\" points=\"523,-348 293,-348 293,-280 523,-280 523,-348\"/>\n<text text-anchor=\"middle\" x=\"408\" y=\"-332.8\" font-family=\"Helvetica,sans-Serif\" font-size=\"14.00\" fill=\"#000000\">Gender &lt;= &#45;0.567</text>\n<text text-anchor=\"middle\" x=\"408\" y=\"-317.8\" font-family=\"Helvetica,sans-Serif\" font-size=\"14.00\" fill=\"#000000\">entropy = 1.993</text>\n<text text-anchor=\"middle\" x=\"408\" y=\"-302.8\" font-family=\"Helvetica,sans-Serif\" font-size=\"14.00\" fill=\"#000000\">samples = 10695</text>\n<text text-anchor=\"middle\" x=\"408\" y=\"-287.8\" font-family=\"Helvetica,sans-Serif\" font-size=\"14.00\" fill=\"#000000\">value = [2818, 2408, 2442, 3027]</text>\n</g>\n<!-- 1 -->\n<g id=\"node2\" class=\"node\">\n<title>1</title>\n<polygon fill=\"#eeacf4\" stroke=\"#000000\" points=\"393.5,-244 188.5,-244 188.5,-176 393.5,-176 393.5,-244\"/>\n<text text-anchor=\"middle\" x=\"291\" y=\"-228.8\" font-family=\"Helvetica,sans-Serif\" font-size=\"14.00\" fill=\"#000000\">Gender &lt;= &#45;1.163</text>\n<text text-anchor=\"middle\" x=\"291\" y=\"-213.8\" font-family=\"Helvetica,sans-Serif\" font-size=\"14.00\" fill=\"#000000\">entropy = 1.661</text>\n<text text-anchor=\"middle\" x=\"291\" y=\"-198.8\" font-family=\"Helvetica,sans-Serif\" font-size=\"14.00\" fill=\"#000000\">samples = 3561</text>\n<text text-anchor=\"middle\" x=\"291\" y=\"-183.8\" font-family=\"Helvetica,sans-Serif\" font-size=\"14.00\" fill=\"#000000\">value = [817, 406, 376, 1962]</text>\n</g>\n<!-- 0&#45;&gt;1 -->\n<g id=\"edge1\" class=\"edge\">\n<title>0&#45;&gt;1</title>\n<path fill=\"none\" stroke=\"#000000\" d=\"M369.6898,-279.9465C359.2859,-270.6986 347.911,-260.5876 337.1243,-250.9994\"/>\n<polygon fill=\"#000000\" stroke=\"#000000\" points=\"339.1956,-248.1577 329.3962,-244.13 334.5451,-253.3896 339.1956,-248.1577\"/>\n<text text-anchor=\"middle\" x=\"330.8643\" y=\"-265.3869\" font-family=\"Helvetica,sans-Serif\" font-size=\"14.00\" fill=\"#000000\">True</text>\n</g>\n<!-- 3526 -->\n<g id=\"node9\" class=\"node\">\n<title>3526</title>\n<polygon fill=\"#fdfeff\" stroke=\"#000000\" points=\"641,-244 411,-244 411,-176 641,-176 641,-244\"/>\n<text text-anchor=\"middle\" x=\"526\" y=\"-228.8\" font-family=\"Helvetica,sans-Serif\" font-size=\"14.00\" fill=\"#000000\">Family_Size &lt;= 1.5</text>\n<text text-anchor=\"middle\" x=\"526\" y=\"-213.8\" font-family=\"Helvetica,sans-Serif\" font-size=\"14.00\" fill=\"#000000\">entropy = 1.956</text>\n<text text-anchor=\"middle\" x=\"526\" y=\"-198.8\" font-family=\"Helvetica,sans-Serif\" font-size=\"14.00\" fill=\"#000000\">samples = 7134</text>\n<text text-anchor=\"middle\" x=\"526\" y=\"-183.8\" font-family=\"Helvetica,sans-Serif\" font-size=\"14.00\" fill=\"#000000\">value = [2001, 2002, 2066, 1065]</text>\n</g>\n<!-- 0&#45;&gt;3526 -->\n<g id=\"edge8\" class=\"edge\">\n<title>0&#45;&gt;3526</title>\n<path fill=\"none\" stroke=\"#000000\" d=\"M446.6376,-279.9465C457.1304,-270.6986 468.6026,-260.5876 479.4814,-250.9994\"/>\n<polygon fill=\"#000000\" stroke=\"#000000\" points=\"482.0877,-253.3678 487.2756,-244.13 477.4593,-248.1163 482.0877,-253.3678\"/>\n<text text-anchor=\"middle\" x=\"485.7021\" y=\"-265.3804\" font-family=\"Helvetica,sans-Serif\" font-size=\"14.00\" fill=\"#000000\">False</text>\n</g>\n<!-- 2 -->\n<g id=\"node3\" class=\"node\">\n<title>2</title>\n<polygon fill=\"#df61ea\" stroke=\"#000000\" points=\"172,-140 0,-140 0,-72 172,-72 172,-140\"/>\n<text text-anchor=\"middle\" x=\"86\" y=\"-124.8\" font-family=\"Helvetica,sans-Serif\" font-size=\"14.00\" fill=\"#000000\">Spending_Score &lt;= 4.5</text>\n<text text-anchor=\"middle\" x=\"86\" y=\"-109.8\" font-family=\"Helvetica,sans-Serif\" font-size=\"14.00\" fill=\"#000000\">entropy = 0.974</text>\n<text text-anchor=\"middle\" x=\"86\" y=\"-94.8\" font-family=\"Helvetica,sans-Serif\" font-size=\"14.00\" fill=\"#000000\">samples = 1037</text>\n<text text-anchor=\"middle\" x=\"86\" y=\"-79.8\" font-family=\"Helvetica,sans-Serif\" font-size=\"14.00\" fill=\"#000000\">value = [85, 56, 50, 846]</text>\n</g>\n<!-- 1&#45;&gt;2 -->\n<g id=\"edge2\" class=\"edge\">\n<title>1&#45;&gt;2</title>\n<path fill=\"none\" stroke=\"#000000\" d=\"M223.8753,-175.9465C204.2305,-165.9803 182.6096,-155.0117 162.4323,-144.7754\"/>\n<polygon fill=\"#000000\" stroke=\"#000000\" points=\"163.777,-141.533 153.2755,-140.13 160.61,-147.7756 163.777,-141.533\"/>\n</g>\n<!-- 683 -->\n<g id=\"node6\" class=\"node\">\n<title>683</title>\n<polygon fill=\"#f6d5f9\" stroke=\"#000000\" points=\"395.5,-140 190.5,-140 190.5,-72 395.5,-72 395.5,-140\"/>\n<text text-anchor=\"middle\" x=\"293\" y=\"-124.8\" font-family=\"Helvetica,sans-Serif\" font-size=\"14.00\" fill=\"#000000\">Spending_Score &lt;= 3.5</text>\n<text text-anchor=\"middle\" x=\"293\" y=\"-109.8\" font-family=\"Helvetica,sans-Serif\" font-size=\"14.00\" fill=\"#000000\">entropy = 1.815</text>\n<text text-anchor=\"middle\" x=\"293\" y=\"-94.8\" font-family=\"Helvetica,sans-Serif\" font-size=\"14.00\" fill=\"#000000\">samples = 2524</text>\n<text text-anchor=\"middle\" x=\"293\" y=\"-79.8\" font-family=\"Helvetica,sans-Serif\" font-size=\"14.00\" fill=\"#000000\">value = [732, 350, 326, 1116]</text>\n</g>\n<!-- 1&#45;&gt;683 -->\n<g id=\"edge5\" class=\"edge\">\n<title>1&#45;&gt;683</title>\n<path fill=\"none\" stroke=\"#000000\" d=\"M291.6549,-175.9465C291.812,-167.776 291.9821,-158.9318 292.1467,-150.3697\"/>\n<polygon fill=\"#000000\" stroke=\"#000000\" points=\"295.6506,-150.1955 292.3437,-140.13 288.6519,-150.0608 295.6506,-150.1955\"/>\n</g>\n<!-- 3 -->\n<g id=\"node4\" class=\"node\">\n<title>3</title>\n<polygon fill=\"#c0c0c0\" stroke=\"#000000\" points=\"77,-36 23,-36 23,0 77,0 77,-36\"/>\n<text text-anchor=\"middle\" x=\"50\" y=\"-14.3\" font-family=\"Helvetica,sans-Serif\" font-size=\"14.00\" fill=\"#000000\">(...)</text>\n</g>\n<!-- 2&#45;&gt;3 -->\n<g id=\"edge3\" class=\"edge\">\n<title>2&#45;&gt;3</title>\n<path fill=\"none\" stroke=\"#000000\" d=\"M72.0815,-71.9769C68.4977,-63.2167 64.6862,-53.8995 61.2564,-45.5157\"/>\n<polygon fill=\"#000000\" stroke=\"#000000\" points=\"64.468,-44.1222 57.4422,-36.192 57.9891,-46.7727 64.468,-44.1222\"/>\n</g>\n<!-- 186 -->\n<g id=\"node5\" class=\"node\">\n<title>186</title>\n<polygon fill=\"#c0c0c0\" stroke=\"#000000\" points=\"149,-36 95,-36 95,0 149,0 149,-36\"/>\n<text text-anchor=\"middle\" x=\"122\" y=\"-14.3\" font-family=\"Helvetica,sans-Serif\" font-size=\"14.00\" fill=\"#000000\">(...)</text>\n</g>\n<!-- 2&#45;&gt;186 -->\n<g id=\"edge4\" class=\"edge\">\n<title>2&#45;&gt;186</title>\n<path fill=\"none\" stroke=\"#000000\" d=\"M99.9185,-71.9769C103.5023,-63.2167 107.3138,-53.8995 110.7436,-45.5157\"/>\n<polygon fill=\"#000000\" stroke=\"#000000\" points=\"114.0109,-46.7727 114.5578,-36.192 107.532,-44.1222 114.0109,-46.7727\"/>\n</g>\n<!-- 684 -->\n<g id=\"node7\" class=\"node\">\n<title>684</title>\n<polygon fill=\"#c0c0c0\" stroke=\"#000000\" points=\"284,-36 230,-36 230,0 284,0 284,-36\"/>\n<text text-anchor=\"middle\" x=\"257\" y=\"-14.3\" font-family=\"Helvetica,sans-Serif\" font-size=\"14.00\" fill=\"#000000\">(...)</text>\n</g>\n<!-- 683&#45;&gt;684 -->\n<g id=\"edge6\" class=\"edge\">\n<title>683&#45;&gt;684</title>\n<path fill=\"none\" stroke=\"#000000\" d=\"M279.0815,-71.9769C275.4977,-63.2167 271.6862,-53.8995 268.2564,-45.5157\"/>\n<polygon fill=\"#000000\" stroke=\"#000000\" points=\"271.468,-44.1222 264.4422,-36.192 264.9891,-46.7727 271.468,-44.1222\"/>\n</g>\n<!-- 2279 -->\n<g id=\"node8\" class=\"node\">\n<title>2279</title>\n<polygon fill=\"#c0c0c0\" stroke=\"#000000\" points=\"356,-36 302,-36 302,0 356,0 356,-36\"/>\n<text text-anchor=\"middle\" x=\"329\" y=\"-14.3\" font-family=\"Helvetica,sans-Serif\" font-size=\"14.00\" fill=\"#000000\">(...)</text>\n</g>\n<!-- 683&#45;&gt;2279 -->\n<g id=\"edge7\" class=\"edge\">\n<title>683&#45;&gt;2279</title>\n<path fill=\"none\" stroke=\"#000000\" d=\"M306.9185,-71.9769C310.5023,-63.2167 314.3138,-53.8995 317.7436,-45.5157\"/>\n<polygon fill=\"#000000\" stroke=\"#000000\" points=\"321.0109,-46.7727 321.5578,-36.192 314.532,-44.1222 321.0109,-46.7727\"/>\n</g>\n<!-- 3527 -->\n<g id=\"node10\" class=\"node\">\n<title>3527</title>\n<polygon fill=\"#e3f1fb\" stroke=\"#000000\" points=\"630.5,-140 417.5,-140 417.5,-72 630.5,-72 630.5,-140\"/>\n<text text-anchor=\"middle\" x=\"524\" y=\"-124.8\" font-family=\"Helvetica,sans-Serif\" font-size=\"14.00\" fill=\"#000000\">Work_Experience &lt;= 0.5</text>\n<text text-anchor=\"middle\" x=\"524\" y=\"-109.8\" font-family=\"Helvetica,sans-Serif\" font-size=\"14.00\" fill=\"#000000\">entropy = 1.849</text>\n<text text-anchor=\"middle\" x=\"524\" y=\"-94.8\" font-family=\"Helvetica,sans-Serif\" font-size=\"14.00\" fill=\"#000000\">samples = 3804</text>\n<text text-anchor=\"middle\" x=\"524\" y=\"-79.8\" font-family=\"Helvetica,sans-Serif\" font-size=\"14.00\" fill=\"#000000\">value = [789, 1131, 1511, 373]</text>\n</g>\n<!-- 3526&#45;&gt;3527 -->\n<g id=\"edge9\" class=\"edge\">\n<title>3526&#45;&gt;3527</title>\n<path fill=\"none\" stroke=\"#000000\" d=\"M525.3451,-175.9465C525.188,-167.776 525.0179,-158.9318 524.8533,-150.3697\"/>\n<polygon fill=\"#000000\" stroke=\"#000000\" points=\"528.3481,-150.0608 524.6563,-140.13 521.3494,-150.1955 528.3481,-150.0608\"/>\n</g>\n<!-- 7776 -->\n<g id=\"node13\" class=\"node\">\n<title>7776</title>\n<polygon fill=\"#fbeee4\" stroke=\"#000000\" points=\"853.5,-140 648.5,-140 648.5,-72 853.5,-72 853.5,-140\"/>\n<text text-anchor=\"middle\" x=\"751\" y=\"-124.8\" font-family=\"Helvetica,sans-Serif\" font-size=\"14.00\" fill=\"#000000\">Spending_Score &lt;= 0.5</text>\n<text text-anchor=\"middle\" x=\"751\" y=\"-109.8\" font-family=\"Helvetica,sans-Serif\" font-size=\"14.00\" fill=\"#000000\">entropy = 1.939</text>\n<text text-anchor=\"middle\" x=\"751\" y=\"-94.8\" font-family=\"Helvetica,sans-Serif\" font-size=\"14.00\" fill=\"#000000\">samples = 3330</text>\n<text text-anchor=\"middle\" x=\"751\" y=\"-79.8\" font-family=\"Helvetica,sans-Serif\" font-size=\"14.00\" fill=\"#000000\">value = [1212, 871, 555, 692]</text>\n</g>\n<!-- 3526&#45;&gt;7776 -->\n<g id=\"edge12\" class=\"edge\">\n<title>3526&#45;&gt;7776</title>\n<path fill=\"none\" stroke=\"#000000\" d=\"M599.6734,-175.9465C621.5262,-165.8457 645.6068,-154.7151 668.0078,-144.3608\"/>\n<polygon fill=\"#000000\" stroke=\"#000000\" points=\"669.5523,-147.5028 677.1611,-140.13 666.6153,-141.1487 669.5523,-147.5028\"/>\n</g>\n<!-- 3528 -->\n<g id=\"node11\" class=\"node\">\n<title>3528</title>\n<polygon fill=\"#c0c0c0\" stroke=\"#000000\" points=\"515,-36 461,-36 461,0 515,0 515,-36\"/>\n<text text-anchor=\"middle\" x=\"488\" y=\"-14.3\" font-family=\"Helvetica,sans-Serif\" font-size=\"14.00\" fill=\"#000000\">(...)</text>\n</g>\n<!-- 3527&#45;&gt;3528 -->\n<g id=\"edge10\" class=\"edge\">\n<title>3527&#45;&gt;3528</title>\n<path fill=\"none\" stroke=\"#000000\" d=\"M510.0815,-71.9769C506.4977,-63.2167 502.6862,-53.8995 499.2564,-45.5157\"/>\n<polygon fill=\"#000000\" stroke=\"#000000\" points=\"502.468,-44.1222 495.4422,-36.192 495.9891,-46.7727 502.468,-44.1222\"/>\n</g>\n<!-- 4759 -->\n<g id=\"node12\" class=\"node\">\n<title>4759</title>\n<polygon fill=\"#c0c0c0\" stroke=\"#000000\" points=\"587,-36 533,-36 533,0 587,0 587,-36\"/>\n<text text-anchor=\"middle\" x=\"560\" y=\"-14.3\" font-family=\"Helvetica,sans-Serif\" font-size=\"14.00\" fill=\"#000000\">(...)</text>\n</g>\n<!-- 3527&#45;&gt;4759 -->\n<g id=\"edge11\" class=\"edge\">\n<title>3527&#45;&gt;4759</title>\n<path fill=\"none\" stroke=\"#000000\" d=\"M537.9185,-71.9769C541.5023,-63.2167 545.3138,-53.8995 548.7436,-45.5157\"/>\n<polygon fill=\"#000000\" stroke=\"#000000\" points=\"552.0109,-46.7727 552.5578,-36.192 545.532,-44.1222 552.0109,-46.7727\"/>\n</g>\n<!-- 7777 -->\n<g id=\"node14\" class=\"node\">\n<title>7777</title>\n<polygon fill=\"#c0c0c0\" stroke=\"#000000\" points=\"742,-36 688,-36 688,0 742,0 742,-36\"/>\n<text text-anchor=\"middle\" x=\"715\" y=\"-14.3\" font-family=\"Helvetica,sans-Serif\" font-size=\"14.00\" fill=\"#000000\">(...)</text>\n</g>\n<!-- 7776&#45;&gt;7777 -->\n<g id=\"edge13\" class=\"edge\">\n<title>7776&#45;&gt;7777</title>\n<path fill=\"none\" stroke=\"#000000\" d=\"M737.0815,-71.9769C733.4977,-63.2167 729.6862,-53.8995 726.2564,-45.5157\"/>\n<polygon fill=\"#000000\" stroke=\"#000000\" points=\"729.468,-44.1222 722.4422,-36.192 722.9891,-46.7727 729.468,-44.1222\"/>\n</g>\n<!-- 9396 -->\n<g id=\"node15\" class=\"node\">\n<title>9396</title>\n<polygon fill=\"#c0c0c0\" stroke=\"#000000\" points=\"814,-36 760,-36 760,0 814,0 814,-36\"/>\n<text text-anchor=\"middle\" x=\"787\" y=\"-14.3\" font-family=\"Helvetica,sans-Serif\" font-size=\"14.00\" fill=\"#000000\">(...)</text>\n</g>\n<!-- 7776&#45;&gt;9396 -->\n<g id=\"edge14\" class=\"edge\">\n<title>7776&#45;&gt;9396</title>\n<path fill=\"none\" stroke=\"#000000\" d=\"M764.9185,-71.9769C768.5023,-63.2167 772.3138,-53.8995 775.7436,-45.5157\"/>\n<polygon fill=\"#000000\" stroke=\"#000000\" points=\"779.0109,-46.7727 779.5578,-36.192 772.532,-44.1222 779.0109,-46.7727\"/>\n</g>\n</g>\n</svg>\n"
          },
          "metadata": {},
          "execution_count": 14
        }
      ]
    },
    {
      "cell_type": "code",
      "metadata": {
        "id": "QBFYBi-ZT-tv",
        "colab": {
          "base_uri": "https://localhost:8080/"
        },
        "outputId": "80475d82-cba2-4d47-a74d-ce2cb4a2ec0d"
      },
      "source": [
        "#Applying gridsearch for Decision tree to find best parameters\n",
        "# create a dictionary of all values we want to test\n",
        "param_grid1 = { 'criterion':['gini','entropy'],    # impurity criterion\n",
        "              'max_depth': np.arange(2, 10)}      # tree depth \n",
        "   \n",
        "    \n",
        "# use gridsearch to test all values\n",
        "grid_search1 = GridSearchCV(entropy_dt_clf['classifier'], \n",
        "                           param_grid1, \n",
        "                           cv=3)\n",
        "    \n",
        "# fit the model \n",
        "grid_search1.fit(preprocessor.fit_transform(X_train), y_train)\n",
        "\n",
        "  # Printing the best values\n",
        "print(\"The best achieved accuracy after hyperparameter optimization: %.2f \\n\" % (grid_search1.best_score_))\n",
        "\n",
        "print(\"The best DT model hyperparameters:\", grid_search1.best_params_)"
      ],
      "execution_count": 15,
      "outputs": [
        {
          "output_type": "stream",
          "name": "stdout",
          "text": [
            "The best achieved accuracy after hyperparameter optimization: 0.47 \n",
            "\n",
            "The best DT model hyperparameters: {'criterion': 'gini', 'max_depth': 5}\n"
          ]
        }
      ]
    },
    {
      "cell_type": "code",
      "metadata": {
        "id": "JNI7rrW4UtCd",
        "colab": {
          "base_uri": "https://localhost:8080/"
        },
        "outputId": "0fc1238a-7932-4bda-fd08-58367b9ff37c"
      },
      "source": [
        "# Use GridSearchCV to find optimum hyperparameter values for the SVC  model\n",
        "\n",
        "\n",
        "# create a dictionary of all values we want to test\n",
        "param_grid2 = {'kernel':['poly','linear','rbf'], \n",
        "              'gamma':['scale','auto'],      # Kernel coefficient for ‘rbf’, ‘poly’ and ‘sigmoid’.\n",
        "              'C': np.arange(1,4)}          # Regularization parameter\n",
        "   \n",
        "    \n",
        "# use gridsearch to test all values\n",
        "grid_search2 = GridSearchCV(poly_svc_clf['classifier'], \n",
        "                           param_grid2, \n",
        "                           cv=3)\n",
        "    \n",
        "# fit the model \n",
        "grid_search2.fit(preprocessor.fit_transform(X_train), y_train)\n",
        "\n",
        "   \n",
        "print(\"The best achieved accuracy after hyperparameter optimization: %.2f\\n\" % grid_search2.best_score_)\n",
        "\n",
        "print(\"The best SVC poly model hyperparameters:\", grid_search2.best_params_)"
      ],
      "execution_count": 16,
      "outputs": [
        {
          "output_type": "stream",
          "name": "stdout",
          "text": [
            "The best achieved accuracy after hyperparameter optimization: 0.47\n",
            "\n",
            "The best SVC poly model hyperparameters: {'C': 3, 'gamma': 'scale', 'kernel': 'rbf'}\n"
          ]
        }
      ]
    },
    {
      "cell_type": "code",
      "metadata": {
        "colab": {
          "base_uri": "https://localhost:8080/",
          "height": 281
        },
        "id": "KEN7XXFDGJuo",
        "outputId": "6d1510de-275e-42ce-e3bc-e4b804face79"
      },
      "source": [
        "# graph results of grid search for the two models\n",
        "# before and after the hyperparameter tunnig\n",
        "labels = ['DT (Gini)', 'SVC (rbf)']\n",
        "before_optimization_scores = [entropy_dt_score, rbf_svc_clf_score]\n",
        "after_optimization_scores = [grid_search1.best_score_, grid_search2.best_score_]\n",
        "\n",
        "x = np.arange(len(labels))  # the label locations\n",
        "width = 0.25                # the width of the bars\n",
        "\n",
        "fig, ax = plt.subplots()\n",
        "rects1 = ax.bar(x - width/2, before_optimization_scores, width, label='Before Optimization', color='gray')\n",
        "rects2 = ax.bar(x + width/2, after_optimization_scores, width, label='After Optimization', color='maroon')\n",
        "\n",
        "# Add some text for labels, title and custom x-axis tick labels, etc.\n",
        "ax.set_ylabel('Accuracy')\n",
        "ax.set_xticks(x)\n",
        "ax.set_ylim(0,1.0)\n",
        "ax.set_xticklabels(labels)\n",
        "ax.legend(bbox_to_anchor = (1.45, 1.0), loc='upper right')\n",
        "\n",
        "plt.title('Hyperparamater Optimization Results')\n",
        "plt.show()\n"
      ],
      "execution_count": 17,
      "outputs": [
        {
          "output_type": "display_data",
          "data": {
            "image/png": "[encoded data removed]",
            "text/plain": [
              "<Figure size 432x288 with 1 Axes>"
            ]
          },
          "metadata": {
            "needs_background": "light"
          }
        }
      ]
    },
    {
      "cell_type": "markdown",
      "metadata": {
        "id": "pvh49MVKGvfj"
      },
      "source": [
        "**Summary**\n",
        "\n",
        "Done Correaltion analysis on the customer statisfaction dataset and then built pipelines to impute and prepare data for modeling.Built pipeline to do multiclass classification using Decision tree and SVC. The accuracies are on the lower end. Pipelines made it very easy to do apply multiple things at same time.Converted decision trees to text and graph to visualize the rules.Performed grid search to find the best hyperparameters.\n",
        "Only Decision tree had improved performance after hyper parameter tunning. I have used less values in Gridsearch as Colab is terminating out  with timeout error.\n",
        "\n"
      ]
    }
  ]
}